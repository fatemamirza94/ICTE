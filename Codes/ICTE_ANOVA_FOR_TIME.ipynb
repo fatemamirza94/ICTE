{
  "nbformat": 4,
  "nbformat_minor": 0,
  "metadata": {
    "colab": {
      "name": "ICTE ANOVA FOR TIME.ipynb",
      "provenance": []
    },
    "kernelspec": {
      "name": "python3",
      "display_name": "Python 3"
    },
    "language_info": {
      "name": "python"
    }
  },
  "cells": [
    {
      "cell_type": "markdown",
      "metadata": {
        "id": "p71kRtv326hl"
      },
      "source": [
        "**APPENDIX G - ANOVA CODES FOR OVERALL TIME ANALYSIS**"
      ]
    },
    {
      "cell_type": "code",
      "metadata": {
        "colab": {
          "base_uri": "https://localhost:8080/"
        },
        "id": "XH6ySO2GXctb",
        "outputId": "258532b0-5653-407c-c4e1-315bc288c85d"
      },
      "source": [
        "import scipy.stats as stats\n",
        "import numpy as np\n",
        "import pandas as pd\n",
        "import xlrd\n",
        "df = pd.read_excel('/content/MatlabAnovaTime&Mem.xlsx')\n",
        "x = df.iloc[0:10, 2]\n",
        "x.fillna(0)\n",
        "df = pd.read_excel('/content/PythonAnovaTime&Mem - Copy.xlsx')\n",
        "y = df.iloc[0:10, 1]\n",
        "y.fillna(0)\n",
        "df = pd.read_excel('/content/RANovTime&Mem.xlsx')\n",
        "z = df.iloc[0:10,2]\n",
        "\n",
        "stats.f_oneway(x,y,z)"
      ],
      "execution_count": null,
      "outputs": [
        {
          "output_type": "execute_result",
          "data": {
            "text/plain": [
              "F_onewayResult(statistic=754.603787172878, pvalue=2.0245902354669195e-24)"
            ]
          },
          "metadata": {
            "tags": []
          },
          "execution_count": 11
        }
      ]
    },
    {
      "cell_type": "code",
      "metadata": {
        "colab": {
          "base_uri": "https://localhost:8080/"
        },
        "id": "VJY9tGO9Z94i",
        "outputId": "bac532e2-9044-4ab1-9f02-bb358b9cb096"
      },
      "source": [
        "import scipy.stats as stats\n",
        "import numpy as np\n",
        "import pandas as pd\n",
        "import xlrd\n",
        "df = pd.read_excel('/content/MatlabBernDistTime&Mem.xlsx')\n",
        "x = df.iloc[0:10, 2]\n",
        "x.fillna(0)\n",
        "df = pd.read_excel('/content/PythonBernDistTime&Mem.xlsx')\n",
        "y = df.iloc[0:10, 1]\n",
        "y.fillna(0)\n",
        "df = pd.read_excel('/content/RBernTime&Mem.xlsx')\n",
        "z = df.iloc[0:10,2]\n",
        "\n",
        "stats.f_oneway(x,y,z)"
      ],
      "execution_count": null,
      "outputs": [
        {
          "output_type": "execute_result",
          "data": {
            "text/plain": [
              "F_onewayResult(statistic=1817.9221240734773, pvalue=1.6287773260081523e-29)"
            ]
          },
          "metadata": {
            "tags": []
          },
          "execution_count": 13
        }
      ]
    },
    {
      "cell_type": "code",
      "metadata": {
        "colab": {
          "base_uri": "https://localhost:8080/"
        },
        "id": "DezmWAjqaGaF",
        "outputId": "1646979b-1312-42c7-cfc2-5d7e23ac8f56"
      },
      "source": [
        "import scipy.stats as stats\n",
        "import numpy as np\n",
        "import pandas as pd\n",
        "import xlrd\n",
        "df = pd.read_excel('/content/MatlabBinoDistTime&Mem.xlsx')\n",
        "x = df.iloc[0:10, 2]\n",
        "x.fillna(0)\n",
        "df = pd.read_excel('/content/PythonBinoDistTime&Mem.xlsx')\n",
        "y = df.iloc[0:10, 1]\n",
        "y.fillna(0)\n",
        "df = pd.read_excel('/content/RBinomTime&Mem.xlsx')\n",
        "z = df.iloc[0:10,2]\n",
        "\n",
        "stats.f_oneway(x,y,z)"
      ],
      "execution_count": null,
      "outputs": [
        {
          "output_type": "execute_result",
          "data": {
            "text/plain": [
              "F_onewayResult(statistic=1512.647124518498, pvalue=1.9096529039881465e-28)"
            ]
          },
          "metadata": {
            "tags": []
          },
          "execution_count": 15
        }
      ]
    },
    {
      "cell_type": "code",
      "metadata": {
        "colab": {
          "base_uri": "https://localhost:8080/"
        },
        "id": "cLs6kFdiai95",
        "outputId": "e1d4bfe6-73e9-4afd-f168-df15ed4f9ef2"
      },
      "source": [
        "import scipy.stats as stats\n",
        "import numpy as np\n",
        "import pandas as pd\n",
        "import xlrd\n",
        "df = pd.read_excel('/content/MatlabChiSqTime&Mem.xlsx')\n",
        "x = df.iloc[0:10, 2]\n",
        "x.fillna(0)\n",
        "df = pd.read_excel('/content/PythonChiSqTime&Mem.xlsx')\n",
        "y = df.iloc[0:10, 1]\n",
        "y.fillna(0)\n",
        "df = pd.read_excel('/content/RCHiSqTime&Mem.xlsx')\n",
        "z = df.iloc[0:10,2]\n",
        "\n",
        "stats.f_oneway(x,y,z)"
      ],
      "execution_count": null,
      "outputs": [
        {
          "output_type": "execute_result",
          "data": {
            "text/plain": [
              "F_onewayResult(statistic=78.0408707691056, pvalue=5.9938082406729114e-12)"
            ]
          },
          "metadata": {
            "tags": []
          },
          "execution_count": 18
        }
      ]
    },
    {
      "cell_type": "code",
      "metadata": {
        "colab": {
          "base_uri": "https://localhost:8080/"
        },
        "id": "PTtCqBsta3_a",
        "outputId": "46f87d3d-bc10-4109-994d-8863a4e92878"
      },
      "source": [
        "import scipy.stats as stats\n",
        "import numpy as np\n",
        "import pandas as pd\n",
        "import xlrd\n",
        "df = pd.read_excel('/content/MatlabCohenTime&Mem.xlsx')\n",
        "x = df.iloc[0:10, 2]\n",
        "x.fillna(0)\n",
        "df = pd.read_excel('/content/PythonCohenTime&Mem.xlsx')\n",
        "y = df.iloc[0:10, 1]\n",
        "y.fillna(0)\n",
        "df = pd.read_excel('/content/RCohenTime&Mem.xlsx')\n",
        "z = df.iloc[0:10,2]\n",
        "\n",
        "stats.f_oneway(x,y,z)"
      ],
      "execution_count": null,
      "outputs": [
        {
          "output_type": "execute_result",
          "data": {
            "text/plain": [
              "F_onewayResult(statistic=68.89086014073034, pvalue=2.483927283101927e-11)"
            ]
          },
          "metadata": {
            "tags": []
          },
          "execution_count": 19
        }
      ]
    },
    {
      "cell_type": "code",
      "metadata": {
        "colab": {
          "base_uri": "https://localhost:8080/"
        },
        "id": "0KxJZJ1ja_L1",
        "outputId": "53565878-420d-44d1-9c0e-a3d59754802c"
      },
      "source": [
        "import scipy.stats as stats\n",
        "import numpy as np\n",
        "import pandas as pd\n",
        "import xlrd\n",
        "df = pd.read_excel('/content/MatlabCorrTime&Mem.xlsx')\n",
        "x = df.iloc[0:10, 2]\n",
        "x.fillna(0)\n",
        "df = pd.read_excel('/content/PythonCorrTime&Mem - Copy.xlsx')\n",
        "y = df.iloc[0:10, 1]\n",
        "y.fillna(0)\n",
        "df = pd.read_excel('/content/RCorrTime&Mem.xlsx')\n",
        "z = df.iloc[0:10,2]\n",
        "\n",
        "stats.f_oneway(x,y,z)"
      ],
      "execution_count": null,
      "outputs": [
        {
          "output_type": "execute_result",
          "data": {
            "text/plain": [
              "F_onewayResult(statistic=621.007651443922, pvalue=2.6705961378128995e-23)"
            ]
          },
          "metadata": {
            "tags": []
          },
          "execution_count": 22
        }
      ]
    },
    {
      "cell_type": "code",
      "metadata": {
        "colab": {
          "base_uri": "https://localhost:8080/"
        },
        "id": "N4Eo11Sbb5DA",
        "outputId": "06cf294f-3242-4eac-e952-b86018086960"
      },
      "source": [
        "import scipy.stats as stats\n",
        "import numpy as np\n",
        "import pandas as pd\n",
        "import xlrd\n",
        "df = pd.read_excel('/content/MatlabCountTime&Mem.xlsx')\n",
        "x = df.iloc[0:10, 2]\n",
        "x.fillna(0)\n",
        "x = np.zeros(10)\n",
        "df = pd.read_excel('/content/PythonCountTime&Mem.xlsx')\n",
        "y = df.iloc[0:10, 1]\n",
        "y.fillna(0)\n",
        "df = pd.read_excel('/content/RCountTime&Mem.xlsx')\n",
        "z = df.iloc[0:10,2]\n",
        "\n",
        "stats.f_oneway(x,y,z)"
      ],
      "execution_count": null,
      "outputs": [
        {
          "output_type": "execute_result",
          "data": {
            "text/plain": [
              "F_onewayResult(statistic=32131.257540328937, pvalue=2.591306539986155e-46)"
            ]
          },
          "metadata": {
            "tags": []
          },
          "execution_count": 24
        }
      ]
    },
    {
      "cell_type": "code",
      "metadata": {
        "colab": {
          "base_uri": "https://localhost:8080/"
        },
        "id": "Kh8i9S3FcUPe",
        "outputId": "509a15cf-fe2d-4ac7-b155-7cd585b74386"
      },
      "source": [
        "import scipy.stats as stats\n",
        "import numpy as np\n",
        "import pandas as pd\n",
        "import xlrd\n",
        "df = pd.read_excel('/content/MatlabCumFreqMemory&Time.xlsx')\n",
        "x = df.iloc[0:10, 2]\n",
        "x.fillna(0)\n",
        "x = np.zeros(10)\n",
        "df = pd.read_excel('/content/PythonCumFreqTime&Mem.xlsx')\n",
        "y = df.iloc[0:10, 1]\n",
        "y.fillna(0)\n",
        "df = pd.read_excel('/content/RCumFreqTime&Mem.xlsx')\n",
        "z = df.iloc[0:10,2]\n",
        "\n",
        "stats.f_oneway(x,y,z)"
      ],
      "execution_count": null,
      "outputs": [
        {
          "output_type": "execute_result",
          "data": {
            "text/plain": [
              "F_onewayResult(statistic=66.28047170336997, pvalue=3.836204743364569e-11)"
            ]
          },
          "metadata": {
            "tags": []
          },
          "execution_count": 27
        }
      ]
    },
    {
      "cell_type": "code",
      "metadata": {
        "colab": {
          "base_uri": "https://localhost:8080/"
        },
        "id": "ffEvA7aQckEM",
        "outputId": "8628cebd-f881-4d80-d324-c4d417132c19"
      },
      "source": [
        "import scipy.stats as stats\n",
        "import numpy as np\n",
        "import pandas as pd\n",
        "import xlrd\n",
        "df = pd.read_excel('/content/MatlabGMeanTime&Mem.xlsx')\n",
        "x = df.iloc[0:10, 2]\n",
        "x.fillna(0)\n",
        "df = pd.read_excel('/content/PythonGMeanTime&Mem.xlsx')\n",
        "y = df.iloc[0:10, 1]\n",
        "y.fillna(0)\n",
        "df = pd.read_excel('/content/RGMeanTime&Mem.xlsx')\n",
        "z = df.iloc[0:10,2]\n",
        "\n",
        "stats.f_oneway(x,y,z)"
      ],
      "execution_count": null,
      "outputs": [
        {
          "output_type": "execute_result",
          "data": {
            "text/plain": [
              "F_onewayResult(statistic=82.04385593855051, pvalue=3.363322823377444e-12)"
            ]
          },
          "metadata": {
            "tags": []
          },
          "execution_count": 31
        }
      ]
    },
    {
      "cell_type": "code",
      "metadata": {
        "colab": {
          "base_uri": "https://localhost:8080/"
        },
        "id": "MSKflYOPcwow",
        "outputId": "1fada044-8990-4dea-bf40-8f424c29b668"
      },
      "source": [
        "import scipy.stats as stats\n",
        "import numpy as np\n",
        "import pandas as pd\n",
        "import xlrd\n",
        "df = pd.read_excel('/content/MatlabHistTime&Mem.xlsx')\n",
        "x = df.iloc[0:10, 2]\n",
        "x.fillna(0)\n",
        "df = pd.read_excel('/content/PythonHistTime&Mem.xlsx')\n",
        "y = df.iloc[0:10, 1]\n",
        "y.fillna(0)\n",
        "df = pd.read_excel('/content/RHistTime&Mem.xlsx')\n",
        "z = df.iloc[0:10,2]\n",
        "\n",
        "stats.f_oneway(x,y,z)"
      ],
      "execution_count": null,
      "outputs": [
        {
          "output_type": "execute_result",
          "data": {
            "text/plain": [
              "F_onewayResult(statistic=6.792908608568004, pvalue=0.004077160722051536)"
            ]
          },
          "metadata": {
            "tags": []
          },
          "execution_count": 32
        }
      ]
    },
    {
      "cell_type": "code",
      "metadata": {
        "colab": {
          "base_uri": "https://localhost:8080/"
        },
        "id": "aqS0LSmZc2QN",
        "outputId": "b59ddf03-b0ce-4a87-c064-47a9d719e85b"
      },
      "source": [
        "import scipy.stats as stats\n",
        "import numpy as np\n",
        "import pandas as pd\n",
        "import xlrd\n",
        "df = pd.read_excel('/content/MatlabHMeanTime&Mem.xlsx')\n",
        "x = df.iloc[0:10, 2]\n",
        "x.fillna(0)\n",
        "df = pd.read_excel('/content/PythonHMeanTime&Mem.xlsx')\n",
        "y = df.iloc[0:10, 1]\n",
        "y.fillna(0)\n",
        "df = pd.read_excel('/content/RHMeanTime&Mem.xlsx')\n",
        "z = df.iloc[0:10,2]\n",
        "\n",
        "stats.f_oneway(x,y,z)"
      ],
      "execution_count": null,
      "outputs": [
        {
          "output_type": "execute_result",
          "data": {
            "text/plain": [
              "F_onewayResult(statistic=104.70581877445628, pvalue=1.9005588620025722e-13)"
            ]
          },
          "metadata": {
            "tags": []
          },
          "execution_count": 33
        }
      ]
    },
    {
      "cell_type": "code",
      "metadata": {
        "colab": {
          "base_uri": "https://localhost:8080/"
        },
        "id": "EwzNKNYmdAaX",
        "outputId": "9f980b53-385c-4eb7-8a59-136d9acc3e78"
      },
      "source": [
        "import scipy.stats as stats\n",
        "import numpy as np\n",
        "import pandas as pd\n",
        "import xlrd\n",
        "df = pd.read_excel('/content/MatlabIQRMem&Time.xlsx')\n",
        "x = df.iloc[0:10, 2]\n",
        "x.fillna(0)\n",
        "df = pd.read_excel('/content/PythonIQRTime&Mem.xlsx')\n",
        "y = df.iloc[0:10, 1]\n",
        "y.fillna(0)\n",
        "df = pd.read_excel('/content/RIQRTime&Mem.xlsx')\n",
        "z = df.iloc[0:10,2]\n",
        "\n",
        "stats.f_oneway(x,y,z)"
      ],
      "execution_count": null,
      "outputs": [
        {
          "output_type": "execute_result",
          "data": {
            "text/plain": [
              "F_onewayResult(statistic=786.0528689627308, pvalue=1.1777927164450402e-24)"
            ]
          },
          "metadata": {
            "tags": []
          },
          "execution_count": 35
        }
      ]
    },
    {
      "cell_type": "code",
      "metadata": {
        "colab": {
          "base_uri": "https://localhost:8080/"
        },
        "id": "XqsUZpbJdN-X",
        "outputId": "0210d9b1-9e9a-4252-a8b4-18994f778b7f"
      },
      "source": [
        "import scipy.stats as stats\n",
        "import numpy as np\n",
        "import pandas as pd\n",
        "import xlrd\n",
        "df = pd.read_excel('/content/MatlabLinRegMem&Time.xlsx')\n",
        "x = df.iloc[0:10, 2]\n",
        "x.fillna(0)\n",
        "df = pd.read_excel('/content/PythonLinRegTime&Mem.xlsx')\n",
        "y = df.iloc[0:10, 1]\n",
        "y.fillna(0)\n",
        "df = pd.read_excel('/content/RLInRegTime&Mem.xlsx')\n",
        "z = df.iloc[0:10,2]\n",
        "\n",
        "stats.f_oneway(x,y,z)"
      ],
      "execution_count": null,
      "outputs": [
        {
          "output_type": "execute_result",
          "data": {
            "text/plain": [
              "F_onewayResult(statistic=95.2842157587486, pvalue=5.832656823312091e-13)"
            ]
          },
          "metadata": {
            "tags": []
          },
          "execution_count": 38
        }
      ]
    },
    {
      "cell_type": "code",
      "metadata": {
        "colab": {
          "base_uri": "https://localhost:8080/"
        },
        "id": "QdUR_c-Qdio9",
        "outputId": "f1957a2d-6833-4529-e8b3-a0d0d8ac6ce5"
      },
      "source": [
        "import scipy.stats as stats\n",
        "import numpy as np\n",
        "import pandas as pd\n",
        "import xlrd\n",
        "df = pd.read_excel('/content/MatlabLoadDataTime&Mem.xlsx')\n",
        "x = df.iloc[0:10, 2]\n",
        "x.fillna(0)\n",
        "df = pd.read_excel('/content/PythonLoadDataTime&Mem.xlsx')\n",
        "y = df.iloc[0:10, 1]\n",
        "y.fillna(0)\n",
        "df = pd.read_excel('/content/RLoadDataTime&Mem.xlsx')\n",
        "z = df.iloc[0:10,2]\n",
        "\n",
        "stats.f_oneway(x,y,z)"
      ],
      "execution_count": null,
      "outputs": [
        {
          "output_type": "execute_result",
          "data": {
            "text/plain": [
              "F_onewayResult(statistic=1134.9573209145856, pvalue=8.870646187931821e-27)"
            ]
          },
          "metadata": {
            "tags": []
          },
          "execution_count": 39
        }
      ]
    },
    {
      "cell_type": "code",
      "metadata": {
        "colab": {
          "base_uri": "https://localhost:8080/"
        },
        "id": "taWYo2UKdpgj",
        "outputId": "4f6bb034-ef1a-437d-8b0f-98c5ff75b287"
      },
      "source": [
        "import scipy.stats as stats\n",
        "import numpy as np\n",
        "import pandas as pd\n",
        "import xlrd\n",
        "df = pd.read_excel('/content/MatlabMeanTime&Mem.xlsx')\n",
        "x = df.iloc[0:10, 2]\n",
        "x.fillna(0)\n",
        "df = pd.read_excel('/content/PythonMeanTime&Mem.xlsx')\n",
        "y = df.iloc[0:10, 1]\n",
        "y.fillna(0)\n",
        "df = pd.read_excel('/content/RMeanTime&Mem.xlsx')\n",
        "z = df.iloc[0:10,2]\n",
        "\n",
        "stats.f_oneway(x,y,z)"
      ],
      "execution_count": null,
      "outputs": [
        {
          "output_type": "execute_result",
          "data": {
            "text/plain": [
              "F_onewayResult(statistic=311.9972370281424, pvalue=2.1883522905798747e-19)"
            ]
          },
          "metadata": {
            "tags": []
          },
          "execution_count": 40
        }
      ]
    },
    {
      "cell_type": "code",
      "metadata": {
        "colab": {
          "base_uri": "https://localhost:8080/"
        },
        "id": "Oaud8dX1dwpV",
        "outputId": "eae5d86a-24ff-4aa8-df24-b0365b2350ce"
      },
      "source": [
        "import scipy.stats as stats\n",
        "import numpy as np\n",
        "import pandas as pd\n",
        "import xlrd\n",
        "df = pd.read_excel('/content/MatlabMedianTime&Mem.xlsx')\n",
        "x = df.iloc[0:10, 2]\n",
        "x.fillna(0)\n",
        "df = pd.read_excel('/content/PythonMedianTime&Mem.xlsx')\n",
        "y = df.iloc[0:10, 1]\n",
        "y.fillna(0)\n",
        "df = pd.read_excel('/content/RMedianTime&Mem.xlsx')\n",
        "z = df.iloc[0:10,2]\n",
        "\n",
        "stats.f_oneway(x,y,z)"
      ],
      "execution_count": null,
      "outputs": [
        {
          "output_type": "execute_result",
          "data": {
            "text/plain": [
              "F_onewayResult(statistic=197.84883405176353, pvalue=7.447453746494136e-17)"
            ]
          },
          "metadata": {
            "tags": []
          },
          "execution_count": 41
        }
      ]
    },
    {
      "cell_type": "code",
      "metadata": {
        "colab": {
          "base_uri": "https://localhost:8080/"
        },
        "id": "Hye_NBMId1_G",
        "outputId": "7708b6b9-8cd8-4479-9ff5-5db90661897a"
      },
      "source": [
        "import scipy.stats as stats\n",
        "import numpy as np\n",
        "import pandas as pd\n",
        "import xlrd\n",
        "df = pd.read_excel('/content/MatlabModeTime&Mem.xlsx')\n",
        "x = df.iloc[0:10, 2]\n",
        "x.fillna(0)\n",
        "df = pd.read_excel('/content/PythonModeTime&Mem.xlsx')\n",
        "y = df.iloc[0:10, 1]\n",
        "y.fillna(0)\n",
        "df = pd.read_excel('/content/RModeTime&Mem.xlsx')\n",
        "z = df.iloc[0:10,2]\n",
        "\n",
        "stats.f_oneway(x,y,z)"
      ],
      "execution_count": null,
      "outputs": [
        {
          "output_type": "execute_result",
          "data": {
            "text/plain": [
              "F_onewayResult(statistic=126.71491060170347, pvalue=1.8957636098521313e-14)"
            ]
          },
          "metadata": {
            "tags": []
          },
          "execution_count": 42
        }
      ]
    },
    {
      "cell_type": "code",
      "metadata": {
        "colab": {
          "base_uri": "https://localhost:8080/"
        },
        "id": "nQqdcOmrd569",
        "outputId": "6b9265c4-011d-468e-f38a-9e0567d7b0cb"
      },
      "source": [
        "import scipy.stats as stats\n",
        "import numpy as np\n",
        "import pandas as pd\n",
        "import xlrd\n",
        "df = pd.read_excel('/content/MatlabNormalDistMem&Time.xlsx')\n",
        "x = df.iloc[0:10, 2]\n",
        "x.fillna(0)\n",
        "df = pd.read_excel('/content/PythonNormDistTime&Mem.xlsx')\n",
        "y = df.iloc[0:10, 1]\n",
        "y.fillna(0)\n",
        "df = pd.read_excel('/content/RNormDistTime&Mem.xlsx')\n",
        "z = df.iloc[0:10,2]\n",
        "\n",
        "stats.f_oneway(x,y,z)"
      ],
      "execution_count": null,
      "outputs": [
        {
          "output_type": "execute_result",
          "data": {
            "text/plain": [
              "F_onewayResult(statistic=489.4697396696739, pvalue=6.14739050371486e-22)"
            ]
          },
          "metadata": {
            "tags": []
          },
          "execution_count": 45
        }
      ]
    },
    {
      "cell_type": "code",
      "metadata": {
        "colab": {
          "base_uri": "https://localhost:8080/"
        },
        "id": "uQFe_QBieM9A",
        "outputId": "462e2864-929b-4db2-bf90-997792314585"
      },
      "source": [
        "import scipy.stats as stats\n",
        "import numpy as np\n",
        "import pandas as pd\n",
        "import xlrd\n",
        "df = pd.read_excel('/content/MatlabPercentileMem&Time.xlsx')\n",
        "x = df.iloc[0:10, 2]\n",
        "x.fillna(0)\n",
        "df = pd.read_excel('/content/PythonPercentileTime&Mem.xlsx')\n",
        "y = df.iloc[0:10, 1]\n",
        "y.fillna(0)\n",
        "df = pd.read_excel('/content/RPercentileTime&Mem.xlsx')\n",
        "z = df.iloc[0:10,2]\n",
        "\n",
        "stats.f_oneway(x,y,z)"
      ],
      "execution_count": null,
      "outputs": [
        {
          "output_type": "execute_result",
          "data": {
            "text/plain": [
              "F_onewayResult(statistic=50.07943694342568, pvalue=8.217330004020992e-10)"
            ]
          },
          "metadata": {
            "tags": []
          },
          "execution_count": 47
        }
      ]
    },
    {
      "cell_type": "code",
      "metadata": {
        "colab": {
          "base_uri": "https://localhost:8080/"
        },
        "id": "7iOuX2KveZJF",
        "outputId": "f55e8929-3cb3-4e72-bf08-16f2dd4a3eb5"
      },
      "source": [
        "import scipy.stats as stats\n",
        "import numpy as np\n",
        "import pandas as pd\n",
        "import xlrd\n",
        "df = pd.read_excel('/content/MatlabPoissonDistMem&Time.xlsx')\n",
        "x = df.iloc[0:10, 2]\n",
        "x.fillna(0)\n",
        "df = pd.read_excel('/content/PythonPoissonDistTime&Mem.xlsx')\n",
        "y = df.iloc[0:10, 1]\n",
        "y.fillna(0)\n",
        "df = pd.read_excel('/content/RPoissonTime&mem.xlsx')\n",
        "z = df.iloc[0:10,2]\n",
        "\n",
        "stats.f_oneway(x,y,z)"
      ],
      "execution_count": null,
      "outputs": [
        {
          "output_type": "execute_result",
          "data": {
            "text/plain": [
              "F_onewayResult(statistic=252.88338671335134, pvalue=3.274609650105954e-18)"
            ]
          },
          "metadata": {
            "tags": []
          },
          "execution_count": 51
        }
      ]
    },
    {
      "cell_type": "code",
      "metadata": {
        "colab": {
          "base_uri": "https://localhost:8080/"
        },
        "id": "PbGGLvM6eryp",
        "outputId": "43f30013-2e86-4e42-bf1f-3336e600451c"
      },
      "source": [
        "import scipy.stats as stats\n",
        "import numpy as np\n",
        "import pandas as pd\n",
        "import xlrd\n",
        "df = pd.read_excel('/content/MatlabQuantileMem&Time.xlsx')\n",
        "x = df.iloc[0:10, 2]\n",
        "x.fillna(0)\n",
        "df = pd.read_excel('/content/PythonQuantileTime&Mem.xlsx')\n",
        "y = df.iloc[0:10, 1]\n",
        "y.fillna(0)\n",
        "df = pd.read_excel('/content/RQuantileTime&Mem.xlsx')\n",
        "z = df.iloc[0:10,2]\n",
        "\n",
        "stats.f_oneway(x,y,z)"
      ],
      "execution_count": null,
      "outputs": [
        {
          "output_type": "execute_result",
          "data": {
            "text/plain": [
              "F_onewayResult(statistic=52.91036457690877, pvalue=4.5637485192419555e-10)"
            ]
          },
          "metadata": {
            "tags": []
          },
          "execution_count": 53
        }
      ]
    },
    {
      "cell_type": "code",
      "metadata": {
        "colab": {
          "base_uri": "https://localhost:8080/"
        },
        "id": "8lFdPMaze0mF",
        "outputId": "e94dbc60-a42d-4dea-cc50-9b42f34d99c4"
      },
      "source": [
        "import scipy.stats as stats\n",
        "import numpy as np\n",
        "import pandas as pd\n",
        "import xlrd\n",
        "df = pd.read_excel('/content/MatlabRangeMem&Time.xlsx')\n",
        "x = df.iloc[0:10, 2]\n",
        "x.fillna(0)\n",
        "df = pd.read_excel('/content/PythonRangeTime&Mem.xlsx')\n",
        "y = df.iloc[0:10, 1]\n",
        "y.fillna(0)\n",
        "df = pd.read_excel('/content/RRangeTime&Mem.xlsx')\n",
        "z = df.iloc[0:10,2]\n",
        "\n",
        "stats.f_oneway(x,y,z)"
      ],
      "execution_count": null,
      "outputs": [
        {
          "output_type": "execute_result",
          "data": {
            "text/plain": [
              "F_onewayResult(statistic=27291440.67495386, pvalue=7.466992875372117e-86)"
            ]
          },
          "metadata": {
            "tags": []
          },
          "execution_count": 55
        }
      ]
    },
    {
      "cell_type": "code",
      "metadata": {
        "colab": {
          "base_uri": "https://localhost:8080/"
        },
        "id": "hduYOiUtf69n",
        "outputId": "b66d792f-9343-426a-edaf-4da2df3ae8a4"
      },
      "source": [
        "import scipy.stats as stats\n",
        "import numpy as np\n",
        "import pandas as pd\n",
        "import xlrd\n",
        "df = pd.read_excel('/content/MatlabScatter2dTime&Mem.xlsx')\n",
        "x = df.iloc[0:10, 2]\n",
        "x.fillna(0)\n",
        "df = pd.read_excel('/content/PythonScatter2dTime&Mem.xlsx')\n",
        "y = df.iloc[0:10, 1]\n",
        "y.fillna(0)\n",
        "df = pd.read_excel('/content/RScatter2dTime&Mem.xlsx')\n",
        "z = df.iloc[0:10,2]\n",
        "\n",
        "stats.f_oneway(x,y,z)"
      ],
      "execution_count": null,
      "outputs": [
        {
          "output_type": "execute_result",
          "data": {
            "text/plain": [
              "F_onewayResult(statistic=429.8491297807739, pvalue=3.3762668130408144e-21)"
            ]
          },
          "metadata": {
            "tags": []
          },
          "execution_count": 57
        }
      ]
    },
    {
      "cell_type": "code",
      "metadata": {
        "colab": {
          "base_uri": "https://localhost:8080/"
        },
        "id": "8n6gIRV2gEpD",
        "outputId": "e4b3f96d-941e-4678-8de4-b2561e6c56f1"
      },
      "source": [
        "import scipy.stats as stats\n",
        "import numpy as np\n",
        "import pandas as pd\n",
        "import xlrd\n",
        "df = pd.read_excel('/content/MatlabScatter3dTime&Mem.xlsx')\n",
        "x = df.iloc[0:10, 2]\n",
        "x.fillna(0)\n",
        "df = pd.read_excel('/content/PythonScatter3dTime&Mem.xlsx')\n",
        "y = df.iloc[0:10, 1]\n",
        "y.fillna(0)\n",
        "df = pd.read_excel('/content/RScatter3dTime&Mem.xlsx')\n",
        "z = df.iloc[0:10,2]\n",
        "\n",
        "stats.f_oneway(x,y,z)"
      ],
      "execution_count": null,
      "outputs": [
        {
          "output_type": "execute_result",
          "data": {
            "text/plain": [
              "F_onewayResult(statistic=639.464922532139, pvalue=1.8133969451414182e-23)"
            ]
          },
          "metadata": {
            "tags": []
          },
          "execution_count": 58
        }
      ]
    },
    {
      "cell_type": "code",
      "metadata": {
        "colab": {
          "base_uri": "https://localhost:8080/"
        },
        "id": "RJX9otk_gHiN",
        "outputId": "daa4fbce-aa8d-4272-a9ab-78a3ddf6826d"
      },
      "source": [
        "import scipy.stats as stats\n",
        "import numpy as np\n",
        "import pandas as pd\n",
        "import xlrd\n",
        "df = pd.read_excel('/content/MatlabSkewMem&Time.xlsx')\n",
        "x = df.iloc[0:10, 2]\n",
        "x.fillna(0)\n",
        "df = pd.read_excel('/content/PythonSkewTime&Mem.xlsx')\n",
        "y = df.iloc[0:10, 1]\n",
        "y.fillna(0)\n",
        "df = pd.read_excel('/content/RSkewTime&Mem.xlsx')\n",
        "z = df.iloc[0:10,2]\n",
        "\n",
        "stats.f_oneway(x,y,z)"
      ],
      "execution_count": null,
      "outputs": [
        {
          "output_type": "execute_result",
          "data": {
            "text/plain": [
              "F_onewayResult(statistic=27.032946049000476, pvalue=3.581752486570328e-07)"
            ]
          },
          "metadata": {
            "tags": []
          },
          "execution_count": 59
        }
      ]
    },
    {
      "cell_type": "code",
      "metadata": {
        "colab": {
          "base_uri": "https://localhost:8080/"
        },
        "id": "txiT1K7egQTc",
        "outputId": "2532d4f2-4d28-4135-a006-7b2c64b922ce"
      },
      "source": [
        "import scipy.stats as stats\n",
        "import numpy as np\n",
        "import pandas as pd\n",
        "import xlrd\n",
        "df = pd.read_excel('/content/MatlabStdTime&Mem.xlsx')\n",
        "x = df.iloc[0:10, 2]\n",
        "x.fillna(0)\n",
        "df = pd.read_excel('/content/PythonStddevTime&Mem.xlsx')\n",
        "y = df.iloc[0:10, 1]\n",
        "y.fillna(0)\n",
        "df = pd.read_excel('/content/RStdDevTime&Mem.xlsx')\n",
        "z = df.iloc[0:10,2]\n",
        "\n",
        "stats.f_oneway(x,y,z)"
      ],
      "execution_count": null,
      "outputs": [
        {
          "output_type": "execute_result",
          "data": {
            "text/plain": [
              "F_onewayResult(statistic=21.34966957890172, pvalue=2.7531121328455954e-06)"
            ]
          },
          "metadata": {
            "tags": []
          },
          "execution_count": 63
        }
      ]
    },
    {
      "cell_type": "code",
      "metadata": {
        "colab": {
          "base_uri": "https://localhost:8080/"
        },
        "id": "kofTbqMHgp-x",
        "outputId": "4b0995c3-a571-4829-b050-50aa97d307a6"
      },
      "source": [
        "import scipy.stats as stats\n",
        "import numpy as np\n",
        "import pandas as pd\n",
        "import xlrd\n",
        "df = pd.read_excel('/content/MatlabSummaryTime&Mem.xlsx')\n",
        "x = df.iloc[0:10, 2]\n",
        "x.fillna(0)\n",
        "df = pd.read_excel('/content/PythonSummaryTime&Mem.xlsx')\n",
        "y = df.iloc[0:10, 1]\n",
        "y.fillna(0)\n",
        "df = pd.read_excel('/content/RSummaryTime&Mem.xlsx')\n",
        "z = df.iloc[0:10,2]\n",
        "\n",
        "stats.f_oneway(x,y,z)"
      ],
      "execution_count": null,
      "outputs": [
        {
          "output_type": "execute_result",
          "data": {
            "text/plain": [
              "F_onewayResult(statistic=62.48761726638959, pvalue=7.404192740383474e-11)"
            ]
          },
          "metadata": {
            "tags": []
          },
          "execution_count": 66
        }
      ]
    },
    {
      "cell_type": "code",
      "metadata": {
        "colab": {
          "base_uri": "https://localhost:8080/"
        },
        "id": "warKKLIUgjMQ",
        "outputId": "ee49a93c-bc6b-49df-853d-9c7804eb10bd"
      },
      "source": [
        "import scipy.stats as stats\n",
        "import numpy as np\n",
        "import pandas as pd\n",
        "import xlrd\n",
        "df = pd.read_excel('/content/MatlabTtestMem&Time.xlsx')\n",
        "x = df.iloc[0:10, 2]\n",
        "x.fillna(0)\n",
        "df = pd.read_excel('/content/PythonTtestTime&Mem.xlsx')\n",
        "y = df.iloc[0:10, 1]\n",
        "y.fillna(0)\n",
        "df = pd.read_excel('/content/RTtestTime&Mem.xlsx')\n",
        "z = df.iloc[0:10,2]\n",
        "\n",
        "stats.f_oneway(x,y,z)"
      ],
      "execution_count": null,
      "outputs": [
        {
          "output_type": "execute_result",
          "data": {
            "text/plain": [
              "F_onewayResult(statistic=117.85155075736049, pvalue=4.577523830431365e-14)"
            ]
          },
          "metadata": {
            "tags": []
          },
          "execution_count": 64
        }
      ]
    },
    {
      "cell_type": "code",
      "metadata": {
        "colab": {
          "base_uri": "https://localhost:8080/"
        },
        "id": "CvL_uXBtg55k",
        "outputId": "4348c077-1cf2-41b3-f39a-aee4c250c33a"
      },
      "source": [
        "import scipy.stats as stats\n",
        "import numpy as np\n",
        "import pandas as pd\n",
        "import xlrd\n",
        "df = pd.read_excel('/content/MatlabVariTime&Mem.xlsx')\n",
        "x = df.iloc[0:10, 2]\n",
        "x.fillna(0)\n",
        "df = pd.read_excel('/content/PythonVarTime&Mem.xlsx')\n",
        "y = df.iloc[0:10, 1]\n",
        "y.fillna(0)\n",
        "df = pd.read_excel('/content/RVarTime&Mem.xlsx')\n",
        "z = df.iloc[0:10,2]\n",
        "\n",
        "stats.f_oneway(x,y,z)"
      ],
      "execution_count": null,
      "outputs": [
        {
          "output_type": "execute_result",
          "data": {
            "text/plain": [
              "F_onewayResult(statistic=21.693543260767083, pvalue=2.4113234103051742e-06)"
            ]
          },
          "metadata": {
            "tags": []
          },
          "execution_count": 68
        }
      ]
    },
    {
      "cell_type": "code",
      "metadata": {
        "colab": {
          "base_uri": "https://localhost:8080/"
        },
        "id": "KVPazqdbhQ4D",
        "outputId": "8171391b-11c3-4618-87cf-4fc8b097db78"
      },
      "source": [
        "import scipy.stats as stats\n",
        "import numpy as np\n",
        "import pandas as pd\n",
        "import xlrd\n",
        "df = pd.read_excel('/content/MatlabWilcoxRankTime&Memory.xlsx')\n",
        "x = df.iloc[0:10, 2]\n",
        "x.fillna(0)\n",
        "df = pd.read_excel('/content/PythonWilcoxRankTime&Mem.xlsx')\n",
        "y = df.iloc[0:10, 1]\n",
        "y.fillna(0)\n",
        "df = pd.read_excel('/content/RWilcoxRankTime&Mem.xlsx')\n",
        "z = df.iloc[0:10,2]\n",
        "\n",
        "stats.f_oneway(x,y,z)"
      ],
      "execution_count": null,
      "outputs": [
        {
          "output_type": "execute_result",
          "data": {
            "text/plain": [
              "F_onewayResult(statistic=296.9471764175425, pvalue=4.1464051283974783e-19)"
            ]
          },
          "metadata": {
            "tags": []
          },
          "execution_count": 70
        }
      ]
    },
    {
      "cell_type": "code",
      "metadata": {
        "colab": {
          "base_uri": "https://localhost:8080/"
        },
        "id": "9QGrOSPShX5v",
        "outputId": "1d03ec4a-50d0-40a8-f730-ed535e7d3e7b"
      },
      "source": [
        "import scipy.stats as stats\n",
        "import numpy as np\n",
        "import pandas as pd\n",
        "import xlrd\n",
        "df = pd.read_excel('/content/MatlabWilcoxSumTime&Mem.xlsx')\n",
        "x = df.iloc[0:10, 2]\n",
        "x.fillna(0)\n",
        "df = pd.read_excel('/content/PythonWilcoxSumTime&Mem.xlsx')\n",
        "y = df.iloc[0:10, 1]\n",
        "y.fillna(0)\n",
        "df = pd.read_excel('/content/RWilcoxSumTime&Mem.xlsx')\n",
        "z = df.iloc[0:10,2]\n",
        "\n",
        "stats.f_oneway(x,y,z)"
      ],
      "execution_count": null,
      "outputs": [
        {
          "output_type": "execute_result",
          "data": {
            "text/plain": [
              "F_onewayResult(statistic=602.8177642583383, pvalue=3.954964759467457e-23)"
            ]
          },
          "metadata": {
            "tags": []
          },
          "execution_count": 71
        }
      ]
    },
    {
      "cell_type": "code",
      "metadata": {
        "colab": {
          "base_uri": "https://localhost:8080/"
        },
        "id": "nbDuvZZphdY4",
        "outputId": "bb124a2e-9a36-4c43-9dd6-42bbc54a6c50"
      },
      "source": [
        "import scipy.stats as stats\n",
        "import numpy as np\n",
        "import pandas as pd\n",
        "import xlrd\n",
        "df = pd.read_excel('/content/MatlabWmeanTime&Mem.xlsx')\n",
        "x = df.iloc[0:10, 2]\n",
        "x.fillna(0)\n",
        "df = pd.read_excel('/content/PythonWMeanTime&Mem.xlsx')\n",
        "y = df.iloc[0:10, 1]\n",
        "y.fillna(0)\n",
        "df = pd.read_excel('/content/RWMeanTime&Mem.xlsx')\n",
        "z = df.iloc[0:10,2]\n",
        "\n",
        "stats.f_oneway(x,y,z)"
      ],
      "execution_count": null,
      "outputs": [
        {
          "output_type": "execute_result",
          "data": {
            "text/plain": [
              "F_onewayResult(statistic=89.50013609006908, pvalue=1.2195387229320638e-12)"
            ]
          },
          "metadata": {
            "tags": []
          },
          "execution_count": 73
        }
      ]
    },
    {
      "cell_type": "code",
      "metadata": {
        "colab": {
          "base_uri": "https://localhost:8080/"
        },
        "id": "tPGBLmwbG6Al",
        "outputId": "4fb4f915-772a-4de5-b884-84d695f60c6b"
      },
      "source": [
        "import scipy.stats as stats\n",
        "import numpy as np\n",
        "import pandas as pd\n",
        "import xlrd\n",
        "df = pd.read_excel('/content/MatlabBoxplotTime&Mem.xlsx')\n",
        "x = df.iloc[0:10, 2]\n",
        "x.fillna(0)\n",
        "df = pd.read_excel('/content/PythonBoxplotTime&Mem.xlsx')\n",
        "y = df.iloc[0:10, 1]\n",
        "y.fillna(0)\n",
        "df = pd.read_excel('/content/RBoxPlotTime&Mem.xlsx')\n",
        "z = df.iloc[0:10,2]\n",
        "\n",
        "stats.f_oneway(x,y,z)"
      ],
      "execution_count": null,
      "outputs": [
        {
          "output_type": "execute_result",
          "data": {
            "text/plain": [
              "F_onewayResult(statistic=478.52223970668655, pvalue=8.273932456472281e-22)"
            ]
          },
          "metadata": {
            "tags": []
          },
          "execution_count": 1
        }
      ]
    },
    {
      "cell_type": "markdown",
      "metadata": {
        "id": "KfDaRhWYjKkv"
      },
      "source": [
        ""
      ]
    }
  ]
}