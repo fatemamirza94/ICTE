{
  "nbformat": 4,
  "nbformat_minor": 0,
  "metadata": {
    "colab": {
      "name": "ICTE ANOVA FOR MEM.ipynb",
      "provenance": []
    },
    "kernelspec": {
      "name": "python3",
      "display_name": "Python 3"
    },
    "language_info": {
      "name": "python"
    }
  },
  "cells": [
    {
      "cell_type": "markdown",
      "metadata": {
        "id": "M70AwxA34sgx"
      },
      "source": [
        "APPENDIX H - ANOVA CODES FOR OVERALL MEMORY ANALYSIS "
      ]
    },
    {
      "cell_type": "code",
      "metadata": {
        "colab": {
          "base_uri": "https://localhost:8080/"
        },
        "id": "XH6ySO2GXctb",
        "outputId": "33906e7e-ea4c-4e5c-d147-fcf74876431b"
      },
      "source": [
        "import scipy.stats as stats\n",
        "import numpy as np\n",
        "import pandas as pd\n",
        "import xlrd\n",
        "df = pd.read_excel('/content/MatlabAnovaTime&Mem.xlsx')\n",
        "x = df.iloc[0:10, 4]\n",
        "x.fillna(0)\n",
        "df = pd.read_excel('/content/PythonAnovaTime&Mem - Copy.xlsx')\n",
        "y = df.iloc[0:10, 3]\n",
        "y.fillna(0)\n",
        "df = pd.read_excel('/content/RANovTime&Mem.xlsx')\n",
        "z = df.iloc[0:10,3]\n",
        "\n",
        "stats.f_oneway(x,y,z)"
      ],
      "execution_count": null,
      "outputs": [
        {
          "output_type": "execute_result",
          "data": {
            "text/plain": [
              "F_onewayResult(statistic=27341.788782001837, pvalue=2.2879591837706708e-45)"
            ]
          },
          "metadata": {
            "tags": []
          },
          "execution_count": 59
        }
      ]
    },
    {
      "cell_type": "code",
      "metadata": {
        "colab": {
          "base_uri": "https://localhost:8080/"
        },
        "id": "VJY9tGO9Z94i",
        "outputId": "4852979b-5e29-40b1-c408-ad1d65f279d9"
      },
      "source": [
        "import scipy.stats as stats\n",
        "import numpy as np\n",
        "import pandas as pd\n",
        "import xlrd\n",
        "df = pd.read_excel('/content/MatlabBernDistTime&Mem.xlsx')\n",
        "x = df.iloc[0:10, 4]\n",
        "x.fillna(0)\n",
        "df = pd.read_excel('/content/PythonBernDistTime&Mem.xlsx')\n",
        "y = df.iloc[0:10, 3]\n",
        "y.fillna(0)\n",
        "df = pd.read_excel('/content/RBernTime&Mem.xlsx')\n",
        "z = df.iloc[0:10,3]\n",
        "\n",
        "stats.f_oneway(x,y,z)"
      ],
      "execution_count": null,
      "outputs": [
        {
          "output_type": "execute_result",
          "data": {
            "text/plain": [
              "F_onewayResult(statistic=8602785.351370534, pvalue=4.3839844056419844e-79)"
            ]
          },
          "metadata": {
            "tags": []
          },
          "execution_count": 60
        }
      ]
    },
    {
      "cell_type": "code",
      "metadata": {
        "colab": {
          "base_uri": "https://localhost:8080/"
        },
        "id": "DezmWAjqaGaF",
        "outputId": "47b5b6c0-cd66-4ba7-86cc-a1ea09884eef"
      },
      "source": [
        "import scipy.stats as stats\n",
        "import numpy as np\n",
        "import pandas as pd\n",
        "import xlrd\n",
        "df = pd.read_excel('/content/MatlabBinoDistTime&Mem.xlsx')\n",
        "x = df.iloc[0:10, 4]\n",
        "x.fillna(0)\n",
        "df = pd.read_excel('/content/PythonBinoDistTime&Mem.xlsx')\n",
        "y = df.iloc[0:10, 3]\n",
        "y.fillna(0)\n",
        "df = pd.read_excel('/content/RBinomTime&Mem.xlsx')\n",
        "z = df.iloc[0:10,3]\n",
        "\n",
        "stats.f_oneway(x,y,z)"
      ],
      "execution_count": null,
      "outputs": [
        {
          "output_type": "execute_result",
          "data": {
            "text/plain": [
              "F_onewayResult(statistic=7641860848.8089905, pvalue=6.859898224572043e-119)"
            ]
          },
          "metadata": {
            "tags": []
          },
          "execution_count": 61
        }
      ]
    },
    {
      "cell_type": "code",
      "metadata": {
        "colab": {
          "base_uri": "https://localhost:8080/"
        },
        "id": "cLs6kFdiai95",
        "outputId": "b093fe35-f7ad-471b-c391-23939a825735"
      },
      "source": [
        "import scipy.stats as stats\n",
        "import numpy as np\n",
        "import pandas as pd\n",
        "import xlrd\n",
        "df = pd.read_excel('/content/MatlabChiSqTime&Mem.xlsx')\n",
        "x = df.iloc[0:10, 4]\n",
        "x.fillna(0)\n",
        "df = pd.read_excel('/content/PythonChiSqTime&Mem.xlsx')\n",
        "y = df.iloc[0:10, 3]\n",
        "y.fillna(0)\n",
        "df = pd.read_excel('/content/RCHiSqTime&Mem.xlsx')\n",
        "z = df.iloc[0:10,3]\n",
        "\n",
        "stats.f_oneway(x,y,z)"
      ],
      "execution_count": null,
      "outputs": [
        {
          "output_type": "execute_result",
          "data": {
            "text/plain": [
              "F_onewayResult(statistic=2917005.570304818, pvalue=9.612265360458405e-73)"
            ]
          },
          "metadata": {
            "tags": []
          },
          "execution_count": 62
        }
      ]
    },
    {
      "cell_type": "code",
      "metadata": {
        "colab": {
          "base_uri": "https://localhost:8080/"
        },
        "id": "PTtCqBsta3_a",
        "outputId": "19117d9b-6806-4576-98b2-346f466b9c39"
      },
      "source": [
        "import scipy.stats as stats\n",
        "import numpy as np\n",
        "import pandas as pd\n",
        "import xlrd\n",
        "df = pd.read_excel('/content/MatlabCohenTime&Mem.xlsx')\n",
        "x = df.iloc[0:10, 4]\n",
        "x.fillna(0)\n",
        "df = pd.read_excel('/content/PythonCohenTime&Mem.xlsx')\n",
        "y = df.iloc[0:10, 3]\n",
        "y.fillna(0)\n",
        "df = pd.read_excel('/content/RCohenTime&Mem.xlsx')\n",
        "z = df.iloc[0:10,3]\n",
        "\n",
        "stats.f_oneway(x,y,z)"
      ],
      "execution_count": null,
      "outputs": [
        {
          "output_type": "execute_result",
          "data": {
            "text/plain": [
              "F_onewayResult(statistic=20145813.091455378, pvalue=4.497872507828226e-84)"
            ]
          },
          "metadata": {
            "tags": []
          },
          "execution_count": 63
        }
      ]
    },
    {
      "cell_type": "code",
      "metadata": {
        "colab": {
          "base_uri": "https://localhost:8080/"
        },
        "id": "0KxJZJ1ja_L1",
        "outputId": "d870d7ee-2da5-4722-86ff-73b1ca14a5ff"
      },
      "source": [
        "import scipy.stats as stats\n",
        "import numpy as np\n",
        "import pandas as pd\n",
        "import xlrd\n",
        "df = pd.read_excel('/content/MatlabCorrTime&Mem.xlsx')\n",
        "x = df.iloc[0:10, 4]\n",
        "x.fillna(0)\n",
        "df = pd.read_excel('/content/PythonCorrTime&Mem - Copy.xlsx')\n",
        "y = df.iloc[0:10, 3]\n",
        "y.fillna(0)\n",
        "df = pd.read_excel('/content/RCorrTime&Mem.xlsx')\n",
        "z = df.iloc[0:10,3]\n",
        "\n",
        "stats.f_oneway(x,y,z)"
      ],
      "execution_count": null,
      "outputs": [
        {
          "output_type": "execute_result",
          "data": {
            "text/plain": [
              "F_onewayResult(statistic=10782.440479630295, pvalue=6.463821786187949e-40)"
            ]
          },
          "metadata": {
            "tags": []
          },
          "execution_count": 64
        }
      ]
    },
    {
      "cell_type": "code",
      "metadata": {
        "colab": {
          "base_uri": "https://localhost:8080/"
        },
        "id": "N4Eo11Sbb5DA",
        "outputId": "8e3e63d3-4d4c-4740-baac-3c358a0e9ae2"
      },
      "source": [
        "import scipy.stats as stats\n",
        "import numpy as np\n",
        "import pandas as pd\n",
        "import xlrd\n",
        "df = pd.read_excel('/content/MatlabCountTime&Mem.xlsx')\n",
        "#x = df.iloc[0:10, 4]\n",
        "#x.fillna(0)\n",
        "x = np.zeros(10)\n",
        "df = pd.read_excel('/content/PythonCountTime&Mem.xlsx')\n",
        "y = df.iloc[0:10, 3]\n",
        "y.fillna(0)\n",
        "df = pd.read_excel('/content/RCountTime&Mem.xlsx')\n",
        "z = df.iloc[0:10,3]\n",
        "\n",
        "stats.f_oneway(x,y,z)"
      ],
      "execution_count": null,
      "outputs": [
        {
          "output_type": "execute_result",
          "data": {
            "text/plain": [
              "F_onewayResult(statistic=8.904582580685016e+16, pvalue=2.7524708933892707e-214)"
            ]
          },
          "metadata": {
            "tags": []
          },
          "execution_count": 65
        }
      ]
    },
    {
      "cell_type": "code",
      "metadata": {
        "colab": {
          "base_uri": "https://localhost:8080/"
        },
        "id": "Kh8i9S3FcUPe",
        "outputId": "159bc7f1-44fb-42a3-990d-99fa6ddafb77"
      },
      "source": [
        "import scipy.stats as stats\n",
        "import numpy as np\n",
        "import pandas as pd\n",
        "import xlrd\n",
        "df = pd.read_excel('/content/MatlabCumFreqMemory&Time.xlsx')\n",
        "#x = df.iloc[0:10, 4]\n",
        "#x.fillna(0)\n",
        "x = np.zeros(10)\n",
        "df = pd.read_excel('/content/PythonCumFreqTime&Mem.xlsx')\n",
        "y = df.iloc[0:10, 3]\n",
        "y.fillna(0)\n",
        "df = pd.read_excel('/content/RCumFreqTime&Mem.xlsx')\n",
        "z = df.iloc[0:10,3]\n",
        "\n",
        "stats.f_oneway(x,y,z)"
      ],
      "execution_count": null,
      "outputs": [
        {
          "output_type": "execute_result",
          "data": {
            "text/plain": [
              "F_onewayResult(statistic=17973850.88468085, pvalue=2.098196494931119e-83)"
            ]
          },
          "metadata": {
            "tags": []
          },
          "execution_count": 66
        }
      ]
    },
    {
      "cell_type": "code",
      "metadata": {
        "colab": {
          "base_uri": "https://localhost:8080/"
        },
        "id": "ffEvA7aQckEM",
        "outputId": "c6fb2973-df35-4b8f-abeb-a6a26a157515"
      },
      "source": [
        "import scipy.stats as stats\n",
        "import numpy as np\n",
        "import pandas as pd\n",
        "import xlrd\n",
        "df = pd.read_excel('/content/MatlabGMeanTime&Mem.xlsx')\n",
        "x = df.iloc[0:10, 4]\n",
        "x.fillna(0)\n",
        "df = pd.read_excel('/content/PythonGMeanTime&Mem.xlsx')\n",
        "y = df.iloc[0:10, 3]\n",
        "y.fillna(0)\n",
        "df = pd.read_excel('/content/RGMeanTime&Mem.xlsx')\n",
        "z = df.iloc[0:10,3]\n",
        "\n",
        "stats.f_oneway(x,y,z)"
      ],
      "execution_count": null,
      "outputs": [
        {
          "output_type": "execute_result",
          "data": {
            "text/plain": [
              "F_onewayResult(statistic=2070215455.0985532, pvalue=3.1138376046099152e-111)"
            ]
          },
          "metadata": {
            "tags": []
          },
          "execution_count": 67
        }
      ]
    },
    {
      "cell_type": "code",
      "metadata": {
        "colab": {
          "base_uri": "https://localhost:8080/"
        },
        "id": "MSKflYOPcwow",
        "outputId": "f2c96875-79c1-4875-9da1-3ec6a077d24d"
      },
      "source": [
        "import scipy.stats as stats\n",
        "import numpy as np\n",
        "import pandas as pd\n",
        "import xlrd\n",
        "df = pd.read_excel('/content/MatlabHistTime&Mem.xlsx')\n",
        "x = df.iloc[0:10, 4]\n",
        "x.fillna(0)\n",
        "df = pd.read_excel('/content/PythonHistTime&Mem.xlsx')\n",
        "y = df.iloc[0:10, 3]\n",
        "y.fillna(0)\n",
        "df = pd.read_excel('/content/RHistTime&Mem.xlsx')\n",
        "z = df.iloc[0:10,3]\n",
        "\n",
        "stats.f_oneway(x,y,z)"
      ],
      "execution_count": null,
      "outputs": [
        {
          "output_type": "execute_result",
          "data": {
            "text/plain": [
              "F_onewayResult(statistic=35738.8246567685, pvalue=6.16450234477578e-47)"
            ]
          },
          "metadata": {
            "tags": []
          },
          "execution_count": 68
        }
      ]
    },
    {
      "cell_type": "code",
      "metadata": {
        "colab": {
          "base_uri": "https://localhost:8080/"
        },
        "id": "aqS0LSmZc2QN",
        "outputId": "13b88f09-8b9a-4527-b902-4862cbdb00c3"
      },
      "source": [
        "import scipy.stats as stats\n",
        "import numpy as np\n",
        "import pandas as pd\n",
        "import xlrd\n",
        "df = pd.read_excel('/content/MatlabHMeanTime&Mem.xlsx')\n",
        "x = df.iloc[0:10, 4]\n",
        "x.fillna(0)\n",
        "df = pd.read_excel('/content/PythonHMeanTime&Mem.xlsx')\n",
        "y = df.iloc[0:10, 3]\n",
        "y.fillna(0)\n",
        "df = pd.read_excel('/content/RHMeanTime&Mem.xlsx')\n",
        "z = df.iloc[0:10,3]\n",
        "\n",
        "stats.f_oneway(x,y,z)"
      ],
      "execution_count": null,
      "outputs": [
        {
          "output_type": "execute_result",
          "data": {
            "text/plain": [
              "F_onewayResult(statistic=-8.058823209291141e+16, pvalue=nan)"
            ]
          },
          "metadata": {
            "tags": []
          },
          "execution_count": 69
        }
      ]
    },
    {
      "cell_type": "code",
      "metadata": {
        "colab": {
          "base_uri": "https://localhost:8080/"
        },
        "id": "EwzNKNYmdAaX",
        "outputId": "3128fae0-0b45-40bc-d094-00a03afd94f6"
      },
      "source": [
        "import scipy.stats as stats\n",
        "import numpy as np\n",
        "import pandas as pd\n",
        "import xlrd\n",
        "df = pd.read_excel('/content/MatlabIQRMem&Time.xlsx')\n",
        "x = df.iloc[0:10, 4]\n",
        "x.fillna(0)\n",
        "df = pd.read_excel('/content/PythonIQRTime&Mem.xlsx')\n",
        "y = df.iloc[0:10, 3]\n",
        "y.fillna(0)\n",
        "df = pd.read_excel('/content/RIQRTime&Mem.xlsx')\n",
        "z = df.iloc[0:10,3]\n",
        "\n",
        "stats.f_oneway(x,y,z)"
      ],
      "execution_count": null,
      "outputs": [
        {
          "output_type": "execute_result",
          "data": {
            "text/plain": [
              "F_onewayResult(statistic=101225163596.12738, pvalue=4.876534431194885e-134)"
            ]
          },
          "metadata": {
            "tags": []
          },
          "execution_count": 70
        }
      ]
    },
    {
      "cell_type": "code",
      "metadata": {
        "colab": {
          "base_uri": "https://localhost:8080/"
        },
        "id": "XqsUZpbJdN-X",
        "outputId": "bb4b0730-6d5e-43ed-82cf-86489d6ec349"
      },
      "source": [
        "import scipy.stats as stats\n",
        "import numpy as np\n",
        "import pandas as pd\n",
        "import xlrd\n",
        "df = pd.read_excel('/content/MatlabLinRegMem&Time.xlsx')\n",
        "x = df.iloc[0:10, 4]\n",
        "x.fillna(0)\n",
        "df = pd.read_excel('/content/PythonLinRegTime&Mem.xlsx')\n",
        "y = df.iloc[0:10, 3]\n",
        "y.fillna(0)\n",
        "df = pd.read_excel('/content/RLInRegTime&Mem.xlsx')\n",
        "z = df.iloc[0:10,3]\n",
        "\n",
        "stats.f_oneway(x,y,z)"
      ],
      "execution_count": null,
      "outputs": [
        {
          "output_type": "execute_result",
          "data": {
            "text/plain": [
              "F_onewayResult(statistic=702132526.9883513, pvalue=6.8053115396643244e-105)"
            ]
          },
          "metadata": {
            "tags": []
          },
          "execution_count": 71
        }
      ]
    },
    {
      "cell_type": "code",
      "metadata": {
        "colab": {
          "base_uri": "https://localhost:8080/"
        },
        "id": "QdUR_c-Qdio9",
        "outputId": "eb398f01-a346-4b3d-ea72-af499cc93ffb"
      },
      "source": [
        "import scipy.stats as stats\n",
        "import numpy as np\n",
        "import pandas as pd\n",
        "import xlrd\n",
        "df = pd.read_excel('/content/MatlabLoadDataTime&Mem.xlsx')\n",
        "x = df.iloc[0:10, 4]\n",
        "x.fillna(0)\n",
        "df = pd.read_excel('/content/PythonLoadDataTime&Mem.xlsx')\n",
        "y = df.iloc[0:10, 3]\n",
        "y.fillna(0)\n",
        "df = pd.read_excel('/content/RLoadDataTime&Mem.xlsx')\n",
        "z = df.iloc[0:10,3]\n",
        "\n",
        "stats.f_oneway(x,y,z)"
      ],
      "execution_count": null,
      "outputs": [
        {
          "output_type": "execute_result",
          "data": {
            "text/plain": [
              "F_onewayResult(statistic=5754.865026773012, pvalue=3.056989528187469e-36)"
            ]
          },
          "metadata": {
            "tags": []
          },
          "execution_count": 72
        }
      ]
    },
    {
      "cell_type": "code",
      "metadata": {
        "colab": {
          "base_uri": "https://localhost:8080/"
        },
        "id": "taWYo2UKdpgj",
        "outputId": "454a1965-7199-42ed-c012-fef0b11566af"
      },
      "source": [
        "import scipy.stats as stats\n",
        "import numpy as np\n",
        "import pandas as pd\n",
        "import xlrd\n",
        "df = pd.read_excel('/content/MatlabMeanTime&Mem.xlsx')\n",
        "x = df.iloc[0:10, 4]\n",
        "x.fillna(0)\n",
        "df = pd.read_excel('/content/PythonMeanTime&Mem.xlsx')\n",
        "y = df.iloc[0:10, 3]\n",
        "y.fillna(0)\n",
        "df = pd.read_excel('/content/RMeanTime&Mem.xlsx')\n",
        "z = df.iloc[0:10,3]\n",
        "\n",
        "stats.f_oneway(x,y,z)"
      ],
      "execution_count": null,
      "outputs": [
        {
          "output_type": "execute_result",
          "data": {
            "text/plain": [
              "F_onewayResult(statistic=1512567224.4994018, pvalue=2.1545549147236824e-109)"
            ]
          },
          "metadata": {
            "tags": []
          },
          "execution_count": 73
        }
      ]
    },
    {
      "cell_type": "code",
      "metadata": {
        "colab": {
          "base_uri": "https://localhost:8080/"
        },
        "id": "Oaud8dX1dwpV",
        "outputId": "5a1a9a0f-3049-4f42-925c-050f2c1a4b0e"
      },
      "source": [
        "import scipy.stats as stats\n",
        "import numpy as np\n",
        "import pandas as pd\n",
        "import xlrd\n",
        "df = pd.read_excel('/content/MatlabMedianTime&Mem.xlsx')\n",
        "x = df.iloc[0:10, 4]\n",
        "x.fillna(0)\n",
        "df = pd.read_excel('/content/PythonMedianTime&Mem.xlsx')\n",
        "y = df.iloc[0:10, 3]\n",
        "y.fillna(0)\n",
        "df = pd.read_excel('/content/RMedianTime&Mem.xlsx')\n",
        "z = df.iloc[0:10,3]\n",
        "\n",
        "stats.f_oneway(x,y,z)"
      ],
      "execution_count": null,
      "outputs": [
        {
          "output_type": "execute_result",
          "data": {
            "text/plain": [
              "F_onewayResult(statistic=2169996171.9487596, pvalue=1.6493384138528909e-111)"
            ]
          },
          "metadata": {
            "tags": []
          },
          "execution_count": 74
        }
      ]
    },
    {
      "cell_type": "code",
      "metadata": {
        "colab": {
          "base_uri": "https://localhost:8080/"
        },
        "id": "Hye_NBMId1_G",
        "outputId": "1c3c1c03-9a30-4317-9c41-d36471be3003"
      },
      "source": [
        "import scipy.stats as stats\n",
        "import numpy as np\n",
        "import pandas as pd\n",
        "import xlrd\n",
        "df = pd.read_excel('/content/MatlabModeTime&Mem.xlsx')\n",
        "x = df.iloc[0:10, 4]\n",
        "x.fillna(0)\n",
        "df = pd.read_excel('/content/PythonModeTime&Mem.xlsx')\n",
        "y = df.iloc[0:10, 3]\n",
        "y.fillna(0)\n",
        "df = pd.read_excel('/content/RModeTime&Mem.xlsx')\n",
        "z = df.iloc[0:10,3]\n",
        "\n",
        "stats.f_oneway(x,y,z)"
      ],
      "execution_count": null,
      "outputs": [
        {
          "output_type": "execute_result",
          "data": {
            "text/plain": [
              "F_onewayResult(statistic=2123276028.8639052, pvalue=2.212680311841547e-111)"
            ]
          },
          "metadata": {
            "tags": []
          },
          "execution_count": 75
        }
      ]
    },
    {
      "cell_type": "code",
      "metadata": {
        "colab": {
          "base_uri": "https://localhost:8080/"
        },
        "id": "nQqdcOmrd569",
        "outputId": "d938f1d9-b23c-4f1e-f318-372435803f92"
      },
      "source": [
        "import scipy.stats as stats\n",
        "import numpy as np\n",
        "import pandas as pd\n",
        "import xlrd\n",
        "df = pd.read_excel('/content/MatlabNormalDistMem&Time.xlsx')\n",
        "x = df.iloc[0:10, 4]\n",
        "x.fillna(0)\n",
        "df = pd.read_excel('/content/PythonNormDistTime&Mem.xlsx')\n",
        "y = df.iloc[0:10, 3]\n",
        "y.fillna(0)\n",
        "df = pd.read_excel('/content/RNormDistTime&Mem.xlsx')\n",
        "z = df.iloc[0:10,3]\n",
        "\n",
        "stats.f_oneway(x,y,z)"
      ],
      "execution_count": null,
      "outputs": [
        {
          "output_type": "execute_result",
          "data": {
            "text/plain": [
              "F_onewayResult(statistic=5189222233.45304, pvalue=1.2753377414529836e-116)"
            ]
          },
          "metadata": {
            "tags": []
          },
          "execution_count": 76
        }
      ]
    },
    {
      "cell_type": "code",
      "metadata": {
        "colab": {
          "base_uri": "https://localhost:8080/"
        },
        "id": "uQFe_QBieM9A",
        "outputId": "53ee84b0-f05c-4162-bb2b-3eb6e97e641f"
      },
      "source": [
        "import scipy.stats as stats\n",
        "import numpy as np\n",
        "import pandas as pd\n",
        "import xlrd\n",
        "df = pd.read_excel('/content/MatlabPercentileMem&Time.xlsx')\n",
        "x = df.iloc[0:10, 4]\n",
        "x.fillna(0)\n",
        "df = pd.read_excel('/content/PythonPercentileTime&Mem.xlsx')\n",
        "y = df.iloc[0:10, 3]\n",
        "y.fillna(0)\n",
        "df = pd.read_excel('/content/RPercentileTime&Mem.xlsx')\n",
        "z = df.iloc[0:10,3]\n",
        "\n",
        "stats.f_oneway(x,y,z)"
      ],
      "execution_count": null,
      "outputs": [
        {
          "output_type": "execute_result",
          "data": {
            "text/plain": [
              "F_onewayResult(statistic=8.967682618885845e+16, pvalue=2.502204362794044e-214)"
            ]
          },
          "metadata": {
            "tags": []
          },
          "execution_count": 77
        }
      ]
    },
    {
      "cell_type": "code",
      "metadata": {
        "colab": {
          "base_uri": "https://localhost:8080/"
        },
        "id": "7iOuX2KveZJF",
        "outputId": "7718be78-050f-451c-df2e-a8eac83bf0ca"
      },
      "source": [
        "import scipy.stats as stats\n",
        "import numpy as np\n",
        "import pandas as pd\n",
        "import xlrd\n",
        "df = pd.read_excel('/content/MatlabPoissonDistMem&Time.xlsx')\n",
        "x = df.iloc[0:10, 4]\n",
        "x.fillna(0)\n",
        "df = pd.read_excel('/content/PythonPoissonDistTime&Mem.xlsx')\n",
        "y = df.iloc[0:10, 3]\n",
        "y.fillna(0)\n",
        "df = pd.read_excel('/content/RPoissonTime&mem.xlsx')\n",
        "z = df.iloc[0:10,3]\n",
        "\n",
        "stats.f_oneway(x,y,z)"
      ],
      "execution_count": null,
      "outputs": [
        {
          "output_type": "execute_result",
          "data": {
            "text/plain": [
              "F_onewayResult(statistic=67742535152.41395, pvalue=1.1037643454384836e-131)"
            ]
          },
          "metadata": {
            "tags": []
          },
          "execution_count": 78
        }
      ]
    },
    {
      "cell_type": "code",
      "metadata": {
        "colab": {
          "base_uri": "https://localhost:8080/"
        },
        "id": "PbGGLvM6eryp",
        "outputId": "340fa386-0efb-49dd-853b-1cdff603fedc"
      },
      "source": [
        "import scipy.stats as stats\n",
        "import numpy as np\n",
        "import pandas as pd\n",
        "import xlrd\n",
        "df = pd.read_excel('/content/MatlabQuantileMem&Time.xlsx')\n",
        "x = df.iloc[0:10, 4]\n",
        "x.fillna(0)\n",
        "df = pd.read_excel('/content/PythonQuantileTime&Mem.xlsx')\n",
        "y = df.iloc[0:10, 3]\n",
        "y.fillna(0)\n",
        "df = pd.read_excel('/content/RQuantileTime&Mem.xlsx')\n",
        "z = df.iloc[0:10,3]\n",
        "\n",
        "stats.f_oneway(x,y,z)"
      ],
      "execution_count": null,
      "outputs": [
        {
          "output_type": "execute_result",
          "data": {
            "text/plain": [
              "F_onewayResult(statistic=61375051024.402626, pvalue=4.184231261831458e-131)"
            ]
          },
          "metadata": {
            "tags": []
          },
          "execution_count": 79
        }
      ]
    },
    {
      "cell_type": "code",
      "metadata": {
        "colab": {
          "base_uri": "https://localhost:8080/"
        },
        "id": "8lFdPMaze0mF",
        "outputId": "c8b75b65-38c1-49eb-eb9f-37bd3d17ecb0"
      },
      "source": [
        "import scipy.stats as stats\n",
        "import numpy as np\n",
        "import pandas as pd\n",
        "import xlrd\n",
        "df = pd.read_excel('/content/MatlabRangeMem&Time.xlsx')\n",
        "x = df.iloc[0:10, 4]\n",
        "x.fillna(0)\n",
        "df = pd.read_excel('/content/PythonRangeTime&Mem.xlsx')\n",
        "y = df.iloc[0:10, 3]\n",
        "y.fillna(0)\n",
        "df = pd.read_excel('/content/RRangeTime&Mem.xlsx')\n",
        "z = df.iloc[0:10,3]\n",
        "\n",
        "stats.f_oneway(x,y,z)"
      ],
      "execution_count": null,
      "outputs": [
        {
          "output_type": "execute_result",
          "data": {
            "text/plain": [
              "F_onewayResult(statistic=8.905683100700115e+16, pvalue=2.747882593276822e-214)"
            ]
          },
          "metadata": {
            "tags": []
          },
          "execution_count": 80
        }
      ]
    },
    {
      "cell_type": "code",
      "metadata": {
        "colab": {
          "base_uri": "https://localhost:8080/"
        },
        "id": "hduYOiUtf69n",
        "outputId": "7cc86730-b2c7-4d5f-94dc-5141e977820b"
      },
      "source": [
        "import scipy.stats as stats\n",
        "import numpy as np\n",
        "import pandas as pd\n",
        "import xlrd\n",
        "df = pd.read_excel('/content/MatlabScatter2dTime&Mem.xlsx')\n",
        "x = df.iloc[0:10, 4]\n",
        "x.fillna(0)\n",
        "df = pd.read_excel('/content/PythonScatter2dTime&Mem.xlsx')\n",
        "y = df.iloc[0:10, 3]\n",
        "y.fillna(0)\n",
        "df = pd.read_excel('/content/RScatter2dTime&Mem.xlsx')\n",
        "z = df.iloc[0:10,3]\n",
        "\n",
        "stats.f_oneway(x,y,z)"
      ],
      "execution_count": null,
      "outputs": [
        {
          "output_type": "execute_result",
          "data": {
            "text/plain": [
              "F_onewayResult(statistic=202094.4660871321, pvalue=4.306550541500102e-57)"
            ]
          },
          "metadata": {
            "tags": []
          },
          "execution_count": 81
        }
      ]
    },
    {
      "cell_type": "code",
      "metadata": {
        "colab": {
          "base_uri": "https://localhost:8080/"
        },
        "id": "8n6gIRV2gEpD",
        "outputId": "205cdc3d-15fc-453c-9d81-474b3bbf8d32"
      },
      "source": [
        "import scipy.stats as stats\n",
        "import numpy as np\n",
        "import pandas as pd\n",
        "import xlrd\n",
        "df = pd.read_excel('/content/MatlabScatter3dTime&Mem.xlsx')\n",
        "x = df.iloc[0:10, 4]\n",
        "x.fillna(0)\n",
        "df = pd.read_excel('/content/PythonScatter3dTime&Mem.xlsx')\n",
        "y = df.iloc[0:10, 3]\n",
        "y.fillna(0)\n",
        "df = pd.read_excel('/content/RScatter3dTime&Mem.xlsx')\n",
        "z = df.iloc[0:10,3]\n",
        "\n",
        "stats.f_oneway(x,y,z)"
      ],
      "execution_count": null,
      "outputs": [
        {
          "output_type": "execute_result",
          "data": {
            "text/plain": [
              "F_onewayResult(statistic=35957.435887365566, pvalue=5.67750362230199e-47)"
            ]
          },
          "metadata": {
            "tags": []
          },
          "execution_count": 82
        }
      ]
    },
    {
      "cell_type": "code",
      "metadata": {
        "colab": {
          "base_uri": "https://localhost:8080/"
        },
        "id": "RJX9otk_gHiN",
        "outputId": "139d3b3c-b4af-457e-9770-0e5345d071e7"
      },
      "source": [
        "import scipy.stats as stats\n",
        "import numpy as np\n",
        "import pandas as pd\n",
        "import xlrd\n",
        "df = pd.read_excel('/content/MatlabSkewMem&Time.xlsx')\n",
        "x = df.iloc[0:10, 4]\n",
        "x.fillna(0)\n",
        "df = pd.read_excel('/content/PythonSkewTime&Mem.xlsx')\n",
        "y = df.iloc[0:10, 3]\n",
        "y.fillna(0)\n",
        "df = pd.read_excel('/content/RSkewTime&Mem.xlsx')\n",
        "z = df.iloc[0:10,3]\n",
        "\n",
        "stats.f_oneway(x,y,z)"
      ],
      "execution_count": null,
      "outputs": [
        {
          "output_type": "execute_result",
          "data": {
            "text/plain": [
              "F_onewayResult(statistic=2097543.6410526866, pvalue=8.248397211305177e-71)"
            ]
          },
          "metadata": {
            "tags": []
          },
          "execution_count": 83
        }
      ]
    },
    {
      "cell_type": "code",
      "metadata": {
        "colab": {
          "base_uri": "https://localhost:8080/"
        },
        "id": "txiT1K7egQTc",
        "outputId": "81a962e0-397e-44dc-c03c-56807aa7f860"
      },
      "source": [
        "import scipy.stats as stats\n",
        "import numpy as np\n",
        "import pandas as pd\n",
        "import xlrd\n",
        "df = pd.read_excel('/content/MatlabStdTime&Mem.xlsx')\n",
        "x = df.iloc[0:10, 4]\n",
        "x.fillna(0)\n",
        "df = pd.read_excel('/content/PythonStddevTime&Mem.xlsx')\n",
        "y = df.iloc[0:10, 3]\n",
        "y.fillna(0)\n",
        "df = pd.read_excel('/content/RStdDevTime&Mem.xlsx')\n",
        "z = df.iloc[0:10,3]\n",
        "\n",
        "stats.f_oneway(x,y,z)"
      ],
      "execution_count": null,
      "outputs": [
        {
          "output_type": "execute_result",
          "data": {
            "text/plain": [
              "F_onewayResult(statistic=2027656007.0431118, pvalue=4.121763550495816e-111)"
            ]
          },
          "metadata": {
            "tags": []
          },
          "execution_count": 84
        }
      ]
    },
    {
      "cell_type": "code",
      "metadata": {
        "colab": {
          "base_uri": "https://localhost:8080/"
        },
        "id": "kofTbqMHgp-x",
        "outputId": "dd0bf228-6c57-4f8a-cf3d-f6e9a46d251e"
      },
      "source": [
        "import scipy.stats as stats\n",
        "import numpy as np\n",
        "import pandas as pd\n",
        "import xlrd\n",
        "df = pd.read_excel('/content/MatlabSummaryTime&Mem.xlsx')\n",
        "x = df.iloc[0:10, 4]\n",
        "x.fillna(0)\n",
        "df = pd.read_excel('/content/PythonSummaryTime&Mem.xlsx')\n",
        "y = df.iloc[0:10, 3]\n",
        "y.fillna(0)\n",
        "df = pd.read_excel('/content/RSummaryTime&Mem.xlsx')\n",
        "z = df.iloc[0:10,3]\n",
        "\n",
        "stats.f_oneway(x,y,z)"
      ],
      "execution_count": null,
      "outputs": [
        {
          "output_type": "execute_result",
          "data": {
            "text/plain": [
              "F_onewayResult(statistic=11802390.61606048, pvalue=6.136268903537214e-81)"
            ]
          },
          "metadata": {
            "tags": []
          },
          "execution_count": 85
        }
      ]
    },
    {
      "cell_type": "code",
      "metadata": {
        "colab": {
          "base_uri": "https://localhost:8080/"
        },
        "id": "warKKLIUgjMQ",
        "outputId": "6f9c89b8-62bb-406b-cbb8-213fac3ed204"
      },
      "source": [
        "import scipy.stats as stats\n",
        "import numpy as np\n",
        "import pandas as pd\n",
        "import xlrd\n",
        "df = pd.read_excel('/content/MatlabTtestMem&Time.xlsx')\n",
        "x = df.iloc[0:10, 4]\n",
        "x.fillna(0)\n",
        "df = pd.read_excel('/content/PythonTtestTime&Mem.xlsx')\n",
        "y = df.iloc[0:10, 3]\n",
        "y.fillna(0)\n",
        "df = pd.read_excel('/content/RTtestTime&Mem.xlsx')\n",
        "z = df.iloc[0:10,3]\n",
        "\n",
        "stats.f_oneway(x,y,z)"
      ],
      "execution_count": null,
      "outputs": [
        {
          "output_type": "execute_result",
          "data": {
            "text/plain": [
              "F_onewayResult(statistic=1125873.807221042, pvalue=3.667114013502201e-67)"
            ]
          },
          "metadata": {
            "tags": []
          },
          "execution_count": 86
        }
      ]
    },
    {
      "cell_type": "code",
      "metadata": {
        "colab": {
          "base_uri": "https://localhost:8080/"
        },
        "id": "CvL_uXBtg55k",
        "outputId": "ac1777a8-81b6-4b73-df9b-c632cacf1812"
      },
      "source": [
        "import scipy.stats as stats\n",
        "import numpy as np\n",
        "import pandas as pd\n",
        "import xlrd\n",
        "df = pd.read_excel('/content/MatlabVariTime&Mem.xlsx')\n",
        "x = df.iloc[0:10, 4]\n",
        "x.fillna(0)\n",
        "df = pd.read_excel('/content/PythonVarTime&Mem.xlsx')\n",
        "y = df.iloc[0:10, 3]\n",
        "y.fillna(0)\n",
        "df = pd.read_excel('/content/RVarTime&Mem.xlsx')\n",
        "z = df.iloc[0:10,3]\n",
        "\n",
        "stats.f_oneway(x,y,z)"
      ],
      "execution_count": null,
      "outputs": [
        {
          "output_type": "execute_result",
          "data": {
            "text/plain": [
              "F_onewayResult(statistic=2170263941.132682, pvalue=1.646593323070225e-111)"
            ]
          },
          "metadata": {
            "tags": []
          },
          "execution_count": 87
        }
      ]
    },
    {
      "cell_type": "code",
      "metadata": {
        "colab": {
          "base_uri": "https://localhost:8080/"
        },
        "id": "KVPazqdbhQ4D",
        "outputId": "e9826af2-22b0-47f8-ac3b-300ebe9003ab"
      },
      "source": [
        "import scipy.stats as stats\n",
        "import numpy as np\n",
        "import pandas as pd\n",
        "import xlrd\n",
        "df = pd.read_excel('/content/MatlabWilcoxRankTime&Memory.xlsx')\n",
        "x = df.iloc[0:10, 4]\n",
        "x.fillna(0)\n",
        "df = pd.read_excel('/content/PythonWilcoxRankTime&Mem.xlsx')\n",
        "y = df.iloc[0:10, 3]\n",
        "y.fillna(0)\n",
        "df = pd.read_excel('/content/RWilcoxRankTime&Mem.xlsx')\n",
        "z = df.iloc[0:10,3]\n",
        "\n",
        "stats.f_oneway(x,y,z)"
      ],
      "execution_count": null,
      "outputs": [
        {
          "output_type": "execute_result",
          "data": {
            "text/plain": [
              "F_onewayResult(statistic=15107.665967047174, pvalue=6.840763758344959e-42)"
            ]
          },
          "metadata": {
            "tags": []
          },
          "execution_count": 88
        }
      ]
    },
    {
      "cell_type": "code",
      "metadata": {
        "colab": {
          "base_uri": "https://localhost:8080/"
        },
        "id": "9QGrOSPShX5v",
        "outputId": "5dbd9c78-b193-4389-facb-d76dd5d462f4"
      },
      "source": [
        "import scipy.stats as stats\n",
        "import numpy as np\n",
        "import pandas as pd\n",
        "import xlrd\n",
        "df = pd.read_excel('/content/MatlabWilcoxSumTime&Mem.xlsx')\n",
        "x = df.iloc[0:10, 4]\n",
        "x.fillna(0)\n",
        "df = pd.read_excel('/content/PythonWilcoxSumTime&Mem.xlsx')\n",
        "y = df.iloc[0:10, 3]\n",
        "y.fillna(0)\n",
        "df = pd.read_excel('/content/RWilcoxSumTime&Mem.xlsx')\n",
        "z = df.iloc[0:10,3]\n",
        "\n",
        "stats.f_oneway(x,y,z)"
      ],
      "execution_count": null,
      "outputs": [
        {
          "output_type": "execute_result",
          "data": {
            "text/plain": [
              "F_onewayResult(statistic=15172.659445544234, pvalue=6.455925005703814e-42)"
            ]
          },
          "metadata": {
            "tags": []
          },
          "execution_count": 89
        }
      ]
    },
    {
      "cell_type": "code",
      "metadata": {
        "colab": {
          "base_uri": "https://localhost:8080/"
        },
        "id": "nbDuvZZphdY4",
        "outputId": "3b0686e1-4a8e-4cbd-8f5a-5acc180a1741"
      },
      "source": [
        "import scipy.stats as stats\n",
        "import numpy as np\n",
        "import pandas as pd\n",
        "import xlrd\n",
        "df = pd.read_excel('/content/MatlabWmeanTime&Mem.xlsx')\n",
        "x = df.iloc[0:10, 4]\n",
        "x.fillna(0)\n",
        "df = pd.read_excel('/content/PythonWMeanTime&Mem.xlsx')\n",
        "y = df.iloc[0:10, 3]\n",
        "y.fillna(0)\n",
        "df = pd.read_excel('/content/RWMeanTime&Mem.xlsx')\n",
        "z = df.iloc[0:10,3]\n",
        "\n",
        "stats.f_oneway(x,y,z)"
      ],
      "execution_count": null,
      "outputs": [
        {
          "output_type": "execute_result",
          "data": {
            "text/plain": [
              "F_onewayResult(statistic=3531586774.0446744, pvalue=2.3009779100489752e-114)"
            ]
          },
          "metadata": {
            "tags": []
          },
          "execution_count": 90
        }
      ]
    },
    {
      "cell_type": "code",
      "metadata": {
        "colab": {
          "base_uri": "https://localhost:8080/"
        },
        "id": "Se1uuktPHcmh",
        "outputId": "15efe7e1-d676-426d-ae01-f1576f5720bf"
      },
      "source": [
        "import scipy.stats as stats\n",
        "import numpy as np\n",
        "import pandas as pd\n",
        "import xlrd\n",
        "df = pd.read_excel('/content/MatlabBoxplotTime&Mem.xlsx')\n",
        "x = df.iloc[0:10, 4]\n",
        "x.fillna(0)\n",
        "df = pd.read_excel('/content/PythonBoxplotTime&Mem.xlsx')\n",
        "y = df.iloc[0:10, 3]\n",
        "y.fillna(0)\n",
        "df = pd.read_excel('/content/RBoxPlotTime&Mem.xlsx')\n",
        "z = df.iloc[0:10,3]\n",
        "\n",
        "stats.f_oneway(x,y,z)"
      ],
      "execution_count": null,
      "outputs": [
        {
          "output_type": "execute_result",
          "data": {
            "text/plain": [
              "F_onewayResult(statistic=24522.68452928076, pvalue=9.933698641733768e-45)"
            ]
          },
          "metadata": {
            "tags": []
          },
          "execution_count": 2
        }
      ]
    }
  ]
}