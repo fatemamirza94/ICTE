{
  "nbformat": 4,
  "nbformat_minor": 0,
  "metadata": {
    "colab": {
      "name": "APPENDIX F - ANOVA CODES FOR OVERALL JOULEMETER ANALYSIS.ipynb",
      "provenance": []
    },
    "kernelspec": {
      "name": "python3",
      "display_name": "Python 3"
    },
    "language_info": {
      "name": "python"
    }
  },
  "cells": [
    {
      "cell_type": "markdown",
      "metadata": {
        "id": "07UrljLav98j"
      },
      "source": [
        "\n",
        "\n",
        "\n",
        "\n",
        "**APPENDIX F - ANOVA CODES FOR OVERALL JOULEMETER ANALYSIS**\n",
        "\n",
        "\n",
        "\n",
        "\n",
        "\n"
      ]
    },
    {
      "cell_type": "code",
      "metadata": {
        "colab": {
          "base_uri": "https://localhost:8080/"
        },
        "id": "v8kjPlB5v1yX",
        "outputId": "3325d8fe-c384-4042-d82c-edd43a5d1f67"
      },
      "source": [
        "#testing\n",
        "import scipy.stats as stats\n",
        "import numpy as np\n",
        "x = np.array([50.09747 , 49.85563 , 49.51923 , 50.92323 , 52.44267 , 51.77866 , 52.3622 , 50.09785 , 50.09804 , 49.95093])\n",
        "y = np.array([37.07,2])\n",
        "z = np.array([38.83,3])\n",
        "stats.f_oneway(x,y,z)"
      ],
      "execution_count": null,
      "outputs": [
        {
          "output_type": "execute_result",
          "data": {
            "text/plain": [
              "F_onewayResult(statistic=11.530945218719557, pvalue=0.001996097065476839)"
            ]
          },
          "metadata": {
            "tags": []
          },
          "execution_count": 13
        }
      ]
    },
    {
      "cell_type": "code",
      "metadata": {
        "colab": {
          "base_uri": "https://localhost:8080/"
        },
        "id": "QkUtVUis2SoL",
        "outputId": "4c5dce52-e8eb-447d-ac2b-cf666785ac0b"
      },
      "source": [
        "#testing\n",
        "stats.f_oneway(x,y,z)"
      ],
      "execution_count": null,
      "outputs": [
        {
          "output_type": "execute_result",
          "data": {
            "text/plain": [
              "F_onewayResult(statistic=1.9743213931436647, pvalue=0.1583977847751512)"
            ]
          },
          "metadata": {
            "tags": []
          },
          "execution_count": 38
        }
      ]
    },
    {
      "cell_type": "code",
      "metadata": {
        "id": "PC2jR_nR0jEA",
        "colab": {
          "base_uri": "https://localhost:8080/"
        },
        "outputId": "98ec39a8-2918-41b2-e061-5f21cf7368c0"
      },
      "source": [
        "import scipy.stats as stats\n",
        "import numpy as np\n",
        "import pandas as pd\n",
        "import xlrd\n",
        "df = pd.read_excel('Overall_anova.xlsx', sheet_name='Overall Analysis')\n",
        "x = df.iloc[2:12, 16]\n",
        "x.fillna(0)\n",
        "print(x)\n",
        "y = df.iloc[14:24, 16]\n",
        "y.fillna(0)\n",
        "print(y)\n",
        "z = df.iloc[26:36, 16]\n",
        "print(z)\n",
        "stats.f_oneway(x,y,z)"
      ],
      "execution_count": null,
      "outputs": [
        {
          "output_type": "stream",
          "text": [
            "2     50.0975\n",
            "3     49.8556\n",
            "4     49.5192\n",
            "5     50.9232\n",
            "6     52.4427\n",
            "7     51.7787\n",
            "8     52.3622\n",
            "9     50.0978\n",
            "10     50.098\n",
            "11    49.9509\n",
            "Name: Unnamed: 16, dtype: object\n",
            "14    28.7484\n",
            "15    25.1125\n",
            "16    48.7548\n",
            "17    49.2352\n",
            "18    49.8054\n",
            "19    49.3808\n",
            "20    49.5669\n",
            "21    51.7703\n",
            "22          0\n",
            "23    48.0569\n",
            "Name: Unnamed: 16, dtype: object\n",
            "26    28.7484\n",
            "27    25.1125\n",
            "28    48.7548\n",
            "29    49.2352\n",
            "30    49.8054\n",
            "31    49.3808\n",
            "32    49.5669\n",
            "33    51.7703\n",
            "34          0\n",
            "35    48.0569\n",
            "Name: Unnamed: 16, dtype: object\n"
          ],
          "name": "stdout"
        },
        {
          "output_type": "execute_result",
          "data": {
            "text/plain": [
              "F_onewayResult(statistic=1.9743213931436647, pvalue=0.1583977847751512)"
            ]
          },
          "metadata": {
            "tags": []
          },
          "execution_count": 24
        }
      ]
    },
    {
      "cell_type": "code",
      "metadata": {
        "colab": {
          "base_uri": "https://localhost:8080/"
        },
        "id": "tU5Li1703pCb",
        "outputId": "fad7df9c-3237-4d67-f5d4-d1c52703c9b9"
      },
      "source": [
        "import scipy.stats as stats\n",
        "import numpy as np\n",
        "import pandas as pd\n",
        "import xlrd\n",
        "df = pd.read_excel('Overall_bern.xlsx', sheet_name='Overall Analysis')\n",
        "x = df.iloc[2:12, 16]\n",
        "x.fillna(0)\n",
        "y = df.iloc[14:24, 16]\n",
        "y.fillna(0)\n",
        "z = df.iloc[26:36, 16]\n",
        "stats.f_oneway(x,y,z)"
      ],
      "execution_count": null,
      "outputs": [
        {
          "output_type": "execute_result",
          "data": {
            "text/plain": [
              "F_onewayResult(statistic=6.233013884585272, pvalue=0.005948324941887414)"
            ]
          },
          "metadata": {
            "tags": []
          },
          "execution_count": 40
        }
      ]
    },
    {
      "cell_type": "code",
      "metadata": {
        "colab": {
          "base_uri": "https://localhost:8080/"
        },
        "id": "hOj3GM889gn5",
        "outputId": "df7f0ab0-8176-4a9d-ca2a-83e277f2fb10"
      },
      "source": [
        "import scipy.stats as stats\n",
        "import numpy as np\n",
        "import pandas as pd\n",
        "import xlrd\n",
        "df = pd.read_excel('Overall_bino.xlsx', sheet_name='Overall Analysis')\n",
        "x = df.iloc[2:12, 16]\n",
        "x.fillna(0)\n",
        "y = df.iloc[14:24, 16]\n",
        "y.fillna(0)\n",
        "z = df.iloc[26:36, 16]\n",
        "stats.f_oneway(x,y,z)"
      ],
      "execution_count": null,
      "outputs": [
        {
          "output_type": "execute_result",
          "data": {
            "text/plain": [
              "F_onewayResult(statistic=13.526153073698842, pvalue=8.519590869301595e-05)"
            ]
          },
          "metadata": {
            "tags": []
          },
          "execution_count": 41
        }
      ]
    },
    {
      "cell_type": "code",
      "metadata": {
        "colab": {
          "base_uri": "https://localhost:8080/"
        },
        "id": "OfO_AyFKA3R8",
        "outputId": "cde52a28-8950-4306-d90d-3fbde79950fc"
      },
      "source": [
        "import scipy.stats as stats\n",
        "import numpy as np\n",
        "import pandas as pd\n",
        "import xlrd\n",
        "df = pd.read_excel('Overall_boxplot.xlsx', sheet_name='Overall Analysis')\n",
        "x = df.iloc[2:12, 16]\n",
        "print(x)\n",
        "y = df.iloc[14:24, 16]\n",
        "print(y)\n",
        "z = df.iloc[26:36, 16]\n",
        "print(z)\n",
        "stats.f_oneway(x,y,z)"
      ],
      "execution_count": null,
      "outputs": [
        {
          "output_type": "stream",
          "text": [
            "2     51.3918\n",
            "3     52.0161\n",
            "4     51.1264\n",
            "5     24.4824\n",
            "6     22.5923\n",
            "7     24.9325\n",
            "8     24.0324\n",
            "9     24.7525\n",
            "10    23.8524\n",
            "11    53.5965\n",
            "Name: Unnamed: 16, dtype: object\n",
            "14    36.4306\n",
            "15    36.0107\n",
            "16    36.4095\n",
            "17    35.2377\n",
            "18    36.7202\n",
            "19    37.4133\n",
            "20    37.8072\n",
            "21    54.0319\n",
            "22    49.1902\n",
            "23    37.9609\n",
            "Name: Unnamed: 16, dtype: object\n",
            "26    32.8406\n",
            "27    49.6599\n",
            "28      38.73\n",
            "29    49.3756\n",
            "30    49.8548\n",
            "31    29.0729\n",
            "32    23.0423\n",
            "33    25.8326\n",
            "34    23.4023\n",
            "35    48.0189\n",
            "Name: Unnamed: 16, dtype: object\n"
          ],
          "name": "stdout"
        },
        {
          "output_type": "execute_result",
          "data": {
            "text/plain": [
              "F_onewayResult(statistic=0.39470304498475417, pvalue=0.6777050716722535)"
            ]
          },
          "metadata": {
            "tags": []
          },
          "execution_count": 44
        }
      ]
    },
    {
      "cell_type": "code",
      "metadata": {
        "colab": {
          "base_uri": "https://localhost:8080/"
        },
        "id": "TPSpYo8XCe6o",
        "outputId": "3502f706-0b32-4331-89a1-f34193aa9c5f"
      },
      "source": [
        "import scipy.stats as stats\n",
        "import numpy as np\n",
        "import pandas as pd\n",
        "import xlrd\n",
        "df = pd.read_excel('Overall_chisq.xlsx', sheet_name='Overall Analysis')\n",
        "x = df.iloc[2:12, 16]\n",
        "\n",
        "y = df.iloc[14:24, 16]\n",
        "\n",
        "z = df.iloc[26:36, 16]\n",
        "\n",
        "stats.f_oneway(x,y,z)"
      ],
      "execution_count": null,
      "outputs": [
        {
          "output_type": "stream",
          "text": [
            "2     54.5094\n",
            "3     51.4677\n",
            "4     53.4604\n",
            "5     53.9293\n",
            "6     51.2869\n",
            "7     52.9237\n",
            "8        53.8\n",
            "9      53.202\n",
            "10    39.2118\n",
            "11    54.2857\n",
            "Name: Unnamed: 16, dtype: object\n",
            "14    24.9325\n",
            "15    23.5824\n",
            "16    24.4824\n",
            "17    23.0423\n",
            "18    23.0402\n",
            "19    22.8623\n",
            "20    23.0423\n",
            "21    22.7723\n",
            "22    23.0423\n",
            "23    29.4805\n",
            "Name: Unnamed: 16, dtype: object\n",
            "26    33.9831\n",
            "27     33.884\n",
            "28    8.26873\n",
            "29    32.6248\n",
            "30    32.9134\n",
            "31          0\n",
            "32    49.5669\n",
            "33    32.1065\n",
            "34    33.9223\n",
            "35    33.4194\n",
            "Name: Unnamed: 16, dtype: object\n"
          ],
          "name": "stdout"
        },
        {
          "output_type": "execute_result",
          "data": {
            "text/plain": [
              "F_onewayResult(statistic=28.862727326573264, pvalue=1.9734360516203313e-07)"
            ]
          },
          "metadata": {
            "tags": []
          },
          "execution_count": 46
        }
      ]
    },
    {
      "cell_type": "code",
      "metadata": {
        "colab": {
          "base_uri": "https://localhost:8080/"
        },
        "id": "ovR40iwUFcxr",
        "outputId": "5ae34012-f5d6-47d2-962a-1e1f78470ac7"
      },
      "source": [
        "import scipy.stats as stats\n",
        "import numpy as np\n",
        "import pandas as pd\n",
        "import xlrd\n",
        "df = pd.read_excel('Overall_cohen.xlsx', sheet_name='Overall Analysis')\n",
        "x = df.iloc[2:12, 16]\n",
        "\n",
        "y = df.iloc[14:24, 16]\n",
        "\n",
        "z = df.iloc[26:36, 16]\n",
        "\n",
        "stats.f_oneway(x,y,z)"
      ],
      "execution_count": null,
      "outputs": [
        {
          "output_type": "execute_result",
          "data": {
            "text/plain": [
              "F_onewayResult(statistic=12.232538968962976, pvalue=0.0001651924697802406)"
            ]
          },
          "metadata": {
            "tags": []
          },
          "execution_count": 47
        }
      ]
    },
    {
      "cell_type": "code",
      "metadata": {
        "colab": {
          "base_uri": "https://localhost:8080/"
        },
        "id": "gopOHrHjHV_u",
        "outputId": "2827ff82-90d8-4fb2-fb6a-3a1430d96867"
      },
      "source": [
        "import scipy.stats as stats\n",
        "import numpy as np\n",
        "import pandas as pd\n",
        "import xlrd\n",
        "df = pd.read_excel('Overall_corr.xlsx', sheet_name='Overall Analysis')\n",
        "x = df.iloc[2:12, 16]\n",
        "\n",
        "y = df.iloc[14:24, 16]\n",
        "\n",
        "z = df.iloc[26:36, 16]\n",
        "\n",
        "stats.f_oneway(x,y,z)"
      ],
      "execution_count": null,
      "outputs": [
        {
          "output_type": "execute_result",
          "data": {
            "text/plain": [
              "F_onewayResult(statistic=2.351632134203569, pvalue=0.11442135187963036)"
            ]
          },
          "metadata": {
            "tags": []
          },
          "execution_count": 48
        }
      ]
    },
    {
      "cell_type": "code",
      "metadata": {
        "colab": {
          "base_uri": "https://localhost:8080/"
        },
        "id": "V0W9_zLwJcEx",
        "outputId": "7309e0ab-bc91-4524-a064-6eb21a83776c"
      },
      "source": [
        "import scipy.stats as stats\n",
        "import numpy as np\n",
        "import pandas as pd\n",
        "import xlrd\n",
        "df = pd.read_excel('Overall_count.xlsx', sheet_name='Overall Analysis')\n",
        "x = df.iloc[2:12, 16]\n",
        "\n",
        "y = df.iloc[14:24, 16]\n",
        "\n",
        "z = df.iloc[26:36, 16]\n",
        "\n",
        "stats.f_oneway(x,y,z)"
      ],
      "execution_count": null,
      "outputs": [
        {
          "output_type": "execute_result",
          "data": {
            "text/plain": [
              "F_onewayResult(statistic=1.503512144183362, pvalue=0.2403816233658418)"
            ]
          },
          "metadata": {
            "tags": []
          },
          "execution_count": 49
        }
      ]
    },
    {
      "cell_type": "code",
      "metadata": {
        "colab": {
          "base_uri": "https://localhost:8080/"
        },
        "id": "A1rsaqKDMaAI",
        "outputId": "e5756c73-6709-4ef8-e8b5-ff954bbf107e"
      },
      "source": [
        "import scipy.stats as stats\n",
        "import numpy as np\n",
        "import pandas as pd\n",
        "import xlrd\n",
        "df = pd.read_excel('Overall_cumfreq.xlsx', sheet_name='Overall Analysis')\n",
        "x = df.iloc[2:12, 16]\n",
        "\n",
        "y = df.iloc[14:24, 16]\n",
        "\n",
        "z = df.iloc[26:36, 16]\n",
        "\n",
        "stats.f_oneway(x,y,z)"
      ],
      "execution_count": null,
      "outputs": [
        {
          "output_type": "execute_result",
          "data": {
            "text/plain": [
              "F_onewayResult(statistic=9.171586473629175, pvalue=0.0009130615810195906)"
            ]
          },
          "metadata": {
            "tags": []
          },
          "execution_count": 50
        }
      ]
    },
    {
      "cell_type": "code",
      "metadata": {
        "colab": {
          "base_uri": "https://localhost:8080/"
        },
        "id": "x7O8I95RSL_D",
        "outputId": "6019fbdf-93a0-4b2e-8824-92d1cf0e97c1"
      },
      "source": [
        "import scipy.stats as stats\n",
        "import numpy as np\n",
        "import pandas as pd\n",
        "import xlrd\n",
        "df = pd.read_excel('Overall_gmean.xlsx', sheet_name='Overall Analysis')\n",
        "x = df.iloc[2:12, 16]\n",
        "\n",
        "y = df.iloc[14:24, 16]\n",
        "\n",
        "z = df.iloc[26:36, 16]\n",
        "\n",
        "stats.f_oneway(x,y,z)"
      ],
      "execution_count": null,
      "outputs": [
        {
          "output_type": "execute_result",
          "data": {
            "text/plain": [
              "F_onewayResult(statistic=3.851822079179866, pvalue=0.033755707511877446)"
            ]
          },
          "metadata": {
            "tags": []
          },
          "execution_count": 51
        }
      ]
    },
    {
      "cell_type": "code",
      "metadata": {
        "id": "Jj9LT2RSTp3_",
        "colab": {
          "base_uri": "https://localhost:8080/"
        },
        "outputId": "3e44cb69-7867-4cb6-e23c-81f7802feeb9"
      },
      "source": [
        "import scipy.stats as stats\n",
        "import numpy as np\n",
        "import pandas as pd\n",
        "import xlrd\n",
        "df = pd.read_excel('Overall_hist.xlsx', sheet_name='Overall Analysis')\n",
        "x = df.iloc[2:12, 16]\n",
        "\n",
        "y = df.iloc[14:24, 16]\n",
        "\n",
        "z = df.iloc[26:36, 16]\n",
        "\n",
        "stats.f_oneway(x,y,z)"
      ],
      "execution_count": null,
      "outputs": [
        {
          "output_type": "execute_result",
          "data": {
            "text/plain": [
              "F_onewayResult(statistic=48.551096133201725, pvalue=1.1412694590499427e-09)"
            ]
          },
          "metadata": {
            "tags": []
          },
          "execution_count": 52
        }
      ]
    },
    {
      "cell_type": "code",
      "metadata": {
        "colab": {
          "base_uri": "https://localhost:8080/"
        },
        "id": "62pIJwT8Bg8j",
        "outputId": "d8453e6d-cb22-4b96-b24e-feb0fcbd6e81"
      },
      "source": [
        "import scipy.stats as stats\n",
        "import numpy as np\n",
        "import pandas as pd\n",
        "import xlrd\n",
        "df = pd.read_excel('Overall_hmean.xlsx', sheet_name='Overall Analysis')\n",
        "x = df.iloc[2:12, 16]\n",
        "\n",
        "y = df.iloc[14:24, 16]\n",
        "\n",
        "z = df.iloc[26:36, 16]\n",
        "\n",
        "stats.f_oneway(x,y,z)"
      ],
      "execution_count": null,
      "outputs": [
        {
          "output_type": "execute_result",
          "data": {
            "text/plain": [
              "F_onewayResult(statistic=2.0025757832874347, pvalue=0.15454456042169334)"
            ]
          },
          "metadata": {
            "tags": []
          },
          "execution_count": 1
        }
      ]
    },
    {
      "cell_type": "code",
      "metadata": {
        "colab": {
          "base_uri": "https://localhost:8080/"
        },
        "id": "UInIoB49JRB3",
        "outputId": "8110453f-b048-487c-94f6-663ae33d0bab"
      },
      "source": [
        "import scipy.stats as stats\n",
        "import numpy as np\n",
        "import pandas as pd\n",
        "import xlrd\n",
        "df = pd.read_excel('Overall_iqr.xlsx', sheet_name='Overall Analysis')\n",
        "x = df.iloc[2:12, 16]\n",
        "\n",
        "y = df.iloc[14:24, 16]\n",
        "\n",
        "z = df.iloc[26:36, 16]\n",
        "\n",
        "stats.f_oneway(x,y,z)"
      ],
      "execution_count": null,
      "outputs": [
        {
          "output_type": "execute_result",
          "data": {
            "text/plain": [
              "F_onewayResult(statistic=3.9166766536333975, pvalue=0.032097741262396555)"
            ]
          },
          "metadata": {
            "tags": []
          },
          "execution_count": 2
        }
      ]
    },
    {
      "cell_type": "code",
      "metadata": {
        "colab": {
          "base_uri": "https://localhost:8080/"
        },
        "id": "Gaf6nCvVNoQh",
        "outputId": "5a1168fa-abef-4455-bcc4-7a56368d41f5"
      },
      "source": [
        "import scipy.stats as stats\n",
        "import numpy as np\n",
        "import pandas as pd\n",
        "import xlrd\n",
        "df = pd.read_excel('Overall_linreg.xlsx', sheet_name='Overall Analysis')\n",
        "x = df.iloc[2:12, 16]\n",
        "\n",
        "y = df.iloc[14:24, 16]\n",
        "\n",
        "z = df.iloc[26:36, 16]\n",
        "\n",
        "stats.f_oneway(x,y,z)"
      ],
      "execution_count": null,
      "outputs": [
        {
          "output_type": "execute_result",
          "data": {
            "text/plain": [
              "F_onewayResult(statistic=5.320461746520029, pvalue=0.01127190114374448)"
            ]
          },
          "metadata": {
            "tags": []
          },
          "execution_count": 3
        }
      ]
    },
    {
      "cell_type": "code",
      "metadata": {
        "colab": {
          "base_uri": "https://localhost:8080/"
        },
        "id": "5O-IVYXVR7KP",
        "outputId": "4d21bb5a-d141-431d-cf71-50a85a4bed46"
      },
      "source": [
        "import scipy.stats as stats\n",
        "import numpy as np\n",
        "import pandas as pd\n",
        "import xlrd\n",
        "df = pd.read_excel('Overall_loaddata.xlsx', sheet_name='Overall Analysis')\n",
        "x = df.iloc[2:12, 16]\n",
        "\n",
        "y = df.iloc[14:24, 16]\n",
        "\n",
        "z = df.iloc[26:36, 16]\n",
        "\n",
        "stats.f_oneway(x,y,z)"
      ],
      "execution_count": null,
      "outputs": [
        {
          "output_type": "execute_result",
          "data": {
            "text/plain": [
              "F_onewayResult(statistic=9.216573702685277, pvalue=0.0008889507370249087)"
            ]
          },
          "metadata": {
            "tags": []
          },
          "execution_count": 4
        }
      ]
    },
    {
      "cell_type": "code",
      "metadata": {
        "colab": {
          "base_uri": "https://localhost:8080/"
        },
        "id": "qjIg5C_PTUHr",
        "outputId": "24feff24-a3ee-46cd-83bb-7e49e765c1de"
      },
      "source": [
        "import scipy.stats as stats\n",
        "import numpy as np\n",
        "import pandas as pd\n",
        "import xlrd\n",
        "df = pd.read_excel('Overall_mean.xlsx', sheet_name='Overall Analysis')\n",
        "x = df.iloc[2:12, 16]\n",
        "\n",
        "y = df.iloc[14:24, 16]\n",
        "\n",
        "z = df.iloc[26:36, 16]\n",
        "\n",
        "stats.f_oneway(x,y,z)"
      ],
      "execution_count": null,
      "outputs": [
        {
          "output_type": "execute_result",
          "data": {
            "text/plain": [
              "F_onewayResult(statistic=1.6018809780447965, pvalue=0.22008314934591744)"
            ]
          },
          "metadata": {
            "tags": []
          },
          "execution_count": 5
        }
      ]
    },
    {
      "cell_type": "code",
      "metadata": {
        "colab": {
          "base_uri": "https://localhost:8080/"
        },
        "id": "ZlI9v3-XUt0I",
        "outputId": "c12b38ed-8043-4e0a-9c2e-013eeb720ddd"
      },
      "source": [
        "import scipy.stats as stats\n",
        "import numpy as np\n",
        "import pandas as pd\n",
        "import xlrd\n",
        "df = pd.read_excel('Overall_median.xlsx', sheet_name='Overall Analysis')\n",
        "x = df.iloc[2:12, 16]\n",
        "\n",
        "y = df.iloc[14:24, 16]\n",
        "\n",
        "z = df.iloc[26:36, 16]\n",
        "\n",
        "stats.f_oneway(x,y,z)"
      ],
      "execution_count": null,
      "outputs": [
        {
          "output_type": "execute_result",
          "data": {
            "text/plain": [
              "F_onewayResult(statistic=1.1492947715377242, pvalue=0.3318793132771058)"
            ]
          },
          "metadata": {
            "tags": []
          },
          "execution_count": 6
        }
      ]
    },
    {
      "cell_type": "code",
      "metadata": {
        "colab": {
          "base_uri": "https://localhost:8080/"
        },
        "id": "OQD4VD-kV_DO",
        "outputId": "059feb87-94d9-447a-b586-e862090ea10b"
      },
      "source": [
        "import scipy.stats as stats\n",
        "import numpy as np\n",
        "import pandas as pd\n",
        "import xlrd\n",
        "df = pd.read_excel('Overall_mode.xlsx', sheet_name='Overall Analysis')\n",
        "x = df.iloc[2:12, 16]\n",
        "\n",
        "y = df.iloc[14:24, 16]\n",
        "\n",
        "z = df.iloc[26:36, 16]\n",
        "\n",
        "stats.f_oneway(x,y,z)"
      ],
      "execution_count": null,
      "outputs": [
        {
          "output_type": "execute_result",
          "data": {
            "text/plain": [
              "F_onewayResult(statistic=76.21822819476544, pvalue=7.863512518839603e-12)"
            ]
          },
          "metadata": {
            "tags": []
          },
          "execution_count": 7
        }
      ]
    },
    {
      "cell_type": "code",
      "metadata": {
        "colab": {
          "base_uri": "https://localhost:8080/"
        },
        "id": "Lt7EzwsNXlID",
        "outputId": "769559fd-018e-4110-c8aa-2752e6477bb2"
      },
      "source": [
        "import scipy.stats as stats\n",
        "import numpy as np\n",
        "import pandas as pd\n",
        "import xlrd\n",
        "df = pd.read_excel('Overall_norm.xlsx', sheet_name='Overall Analysis')\n",
        "x = df.iloc[2:12, 16]\n",
        "\n",
        "y = df.iloc[14:24, 16]\n",
        "\n",
        "z = df.iloc[26:36, 16]\n",
        "\n",
        "stats.f_oneway(x,y,z)"
      ],
      "execution_count": null,
      "outputs": [
        {
          "output_type": "execute_result",
          "data": {
            "text/plain": [
              "F_onewayResult(statistic=6.778787042415076, pvalue=0.004115657431658563)"
            ]
          },
          "metadata": {
            "tags": []
          },
          "execution_count": 8
        }
      ]
    },
    {
      "cell_type": "code",
      "metadata": {
        "colab": {
          "base_uri": "https://localhost:8080/"
        },
        "id": "HVV4mXD0Ywwv",
        "outputId": "afaa8706-8dd0-4007-cd00-155eb32eea86"
      },
      "source": [
        "import scipy.stats as stats\n",
        "import numpy as np\n",
        "import pandas as pd\n",
        "import xlrd\n",
        "df = pd.read_excel('Overall_percentile.xlsx', sheet_name='Overall Analysis')\n",
        "x = df.iloc[2:12, 16]\n",
        "\n",
        "y = df.iloc[14:24, 16]\n",
        "\n",
        "z = df.iloc[26:36, 16]\n",
        "\n",
        "stats.f_oneway(x,y,z)"
      ],
      "execution_count": null,
      "outputs": [
        {
          "output_type": "execute_result",
          "data": {
            "text/plain": [
              "F_onewayResult(statistic=15.412497239929372, pvalue=3.4264958989878186e-05)"
            ]
          },
          "metadata": {
            "tags": []
          },
          "execution_count": 9
        }
      ]
    },
    {
      "cell_type": "code",
      "metadata": {
        "colab": {
          "base_uri": "https://localhost:8080/"
        },
        "id": "glgvbXvXY08L",
        "outputId": "bf926547-ed72-4d3e-c48c-6e20603a0128"
      },
      "source": [
        "import scipy.stats as stats\n",
        "import numpy as np\n",
        "import pandas as pd\n",
        "import xlrd\n",
        "df = pd.read_excel('Overall_poisson.xlsx', sheet_name='Overall Analysis')\n",
        "x = df.iloc[2:12, 16]\n",
        "\n",
        "y = df.iloc[14:24, 16]\n",
        "\n",
        "z = df.iloc[26:36, 16]\n",
        "\n",
        "stats.f_oneway(x,y,z)"
      ],
      "execution_count": null,
      "outputs": [
        {
          "output_type": "execute_result",
          "data": {
            "text/plain": [
              "F_onewayResult(statistic=25.787943330996857, pvalue=5.457646423840843e-07)"
            ]
          },
          "metadata": {
            "tags": []
          },
          "execution_count": 10
        }
      ]
    },
    {
      "cell_type": "code",
      "metadata": {
        "colab": {
          "base_uri": "https://localhost:8080/"
        },
        "id": "bTGzusWf1Kgz",
        "outputId": "aef45d9d-c492-4e4d-de19-e8a00b278251"
      },
      "source": [
        "import scipy.stats as stats\n",
        "import numpy as np\n",
        "import pandas as pd\n",
        "import xlrd\n",
        "df = pd.read_excel('Overall_quantile.xlsx', sheet_name='Overall Analysis')\n",
        "x = df.iloc[2:12, 16]\n",
        "\n",
        "y = df.iloc[14:24, 16]\n",
        "\n",
        "z = df.iloc[26:36, 16]\n",
        "\n",
        "stats.f_oneway(x,y,z)"
      ],
      "execution_count": null,
      "outputs": [
        {
          "output_type": "execute_result",
          "data": {
            "text/plain": [
              "F_onewayResult(statistic=5.495186087027267, pvalue=0.009949881673218674)"
            ]
          },
          "metadata": {
            "tags": []
          },
          "execution_count": 23
        }
      ]
    },
    {
      "cell_type": "code",
      "metadata": {
        "colab": {
          "base_uri": "https://localhost:8080/"
        },
        "id": "ILVa_6IYboNo",
        "outputId": "3215ffe0-ed89-4edf-ed9d-192c1ffa72ed"
      },
      "source": [
        "import scipy.stats as stats\n",
        "import numpy as np\n",
        "import pandas as pd\n",
        "import xlrd\n",
        "df = pd.read_excel('Overall_range.xlsx', sheet_name='Overall Analysis')\n",
        "x = df.iloc[2:12, 16]\n",
        "\n",
        "y = df.iloc[14:24, 16]\n",
        "\n",
        "z = df.iloc[26:36, 16]\n",
        "\n",
        "stats.f_oneway(x,y,z)"
      ],
      "execution_count": null,
      "outputs": [
        {
          "output_type": "execute_result",
          "data": {
            "text/plain": [
              "F_onewayResult(statistic=0.7360682864750515, pvalue=0.48835993871993205)"
            ]
          },
          "metadata": {
            "tags": []
          },
          "execution_count": 12
        }
      ]
    },
    {
      "cell_type": "code",
      "metadata": {
        "colab": {
          "base_uri": "https://localhost:8080/"
        },
        "id": "s1hIlbI8dTbO",
        "outputId": "57774650-a138-4652-d2a1-7c387a451589"
      },
      "source": [
        "import scipy.stats as stats\n",
        "import numpy as np\n",
        "import pandas as pd\n",
        "import xlrd\n",
        "df = pd.read_excel('Overall_scatter2d.xlsx', sheet_name='Overall Analysis')\n",
        "x = df.iloc[2:12, 16]\n",
        "\n",
        "y = df.iloc[14:24, 16]\n",
        "\n",
        "z = df.iloc[26:36, 16]\n",
        "\n",
        "stats.f_oneway(x,y,z)"
      ],
      "execution_count": null,
      "outputs": [
        {
          "output_type": "execute_result",
          "data": {
            "text/plain": [
              "F_onewayResult(statistic=0.8457967786979216, pvalue=0.4402737277203582)"
            ]
          },
          "metadata": {
            "tags": []
          },
          "execution_count": 13
        }
      ]
    },
    {
      "cell_type": "code",
      "metadata": {
        "colab": {
          "base_uri": "https://localhost:8080/"
        },
        "id": "2YieFyEgfGKf",
        "outputId": "a2848f18-c762-4b15-8f2b-4eb58fdc10aa"
      },
      "source": [
        "import scipy.stats as stats\n",
        "import numpy as np\n",
        "import pandas as pd\n",
        "import xlrd\n",
        "df = pd.read_excel('Overall_scatter3d.xlsx', sheet_name='Overall Analysis')\n",
        "x = df.iloc[2:12, 16]\n",
        "\n",
        "y = df.iloc[14:24, 16]\n",
        "\n",
        "z = df.iloc[26:36, 16]\n",
        "\n",
        "stats.f_oneway(x,y,z)"
      ],
      "execution_count": null,
      "outputs": [
        {
          "output_type": "execute_result",
          "data": {
            "text/plain": [
              "F_onewayResult(statistic=7.589412132097583, pvalue=0.002424574183304962)"
            ]
          },
          "metadata": {
            "tags": []
          },
          "execution_count": 14
        }
      ]
    },
    {
      "cell_type": "code",
      "metadata": {
        "colab": {
          "base_uri": "https://localhost:8080/"
        },
        "id": "TPnPQdLLk3Iw",
        "outputId": "5a1738e1-3047-4113-a4cc-27f281eb8169"
      },
      "source": [
        "import scipy.stats as stats\n",
        "import numpy as np\n",
        "import pandas as pd\n",
        "import xlrd\n",
        "df = pd.read_excel('Overall_skew.xlsx', sheet_name='Overall Analysis')\n",
        "x = df.iloc[2:12, 16]\n",
        "\n",
        "y = df.iloc[14:24, 16]\n",
        "\n",
        "z = df.iloc[26:36, 16]\n",
        "\n",
        "stats.f_oneway(x,y,z)"
      ],
      "execution_count": null,
      "outputs": [
        {
          "output_type": "execute_result",
          "data": {
            "text/plain": [
              "F_onewayResult(statistic=4.7025172840661495, pvalue=0.017690140054180386)"
            ]
          },
          "metadata": {
            "tags": []
          },
          "execution_count": 15
        }
      ]
    },
    {
      "cell_type": "code",
      "metadata": {
        "colab": {
          "base_uri": "https://localhost:8080/"
        },
        "id": "aHfUNEZ5mhh5",
        "outputId": "f90f3c5a-a05f-470d-aed0-86f3493ecb8b"
      },
      "source": [
        "import scipy.stats as stats\n",
        "import numpy as np\n",
        "import pandas as pd\n",
        "import xlrd\n",
        "df = pd.read_excel('Overall_stddev.xlsx', sheet_name='Overall Analysis')\n",
        "x = df.iloc[2:12, 16]\n",
        "\n",
        "y = df.iloc[14:24, 16]\n",
        "\n",
        "z = df.iloc[26:36, 16]\n",
        "\n",
        "stats.f_oneway(x,y,z)"
      ],
      "execution_count": null,
      "outputs": [
        {
          "output_type": "execute_result",
          "data": {
            "text/plain": [
              "F_onewayResult(statistic=15.08446912392156, pvalue=3.997137688063425e-05)"
            ]
          },
          "metadata": {
            "tags": []
          },
          "execution_count": 16
        }
      ]
    },
    {
      "cell_type": "code",
      "metadata": {
        "colab": {
          "base_uri": "https://localhost:8080/"
        },
        "id": "pV-LWflpqkyP",
        "outputId": "6b30d9a6-f200-4a3e-f1d8-209e98a8ad8e"
      },
      "source": [
        "import scipy.stats as stats\n",
        "import numpy as np\n",
        "import pandas as pd\n",
        "import xlrd\n",
        "df = pd.read_excel('Overall_summary.xlsx', sheet_name='Overall Analysis')\n",
        "x = df.iloc[2:12, 16]\n",
        "\n",
        "y = df.iloc[14:24, 16]\n",
        "\n",
        "z = df.iloc[26:36, 16]\n",
        "\n",
        "stats.f_oneway(x,y,z)"
      ],
      "execution_count": null,
      "outputs": [
        {
          "output_type": "execute_result",
          "data": {
            "text/plain": [
              "F_onewayResult(statistic=19.18970544326382, pvalue=6.530663037470971e-06)"
            ]
          },
          "metadata": {
            "tags": []
          },
          "execution_count": 17
        }
      ]
    },
    {
      "cell_type": "code",
      "metadata": {
        "colab": {
          "base_uri": "https://localhost:8080/"
        },
        "id": "2NNWHevnsHSH",
        "outputId": "9aff300a-b1d2-4d66-d57d-b343939db2f3"
      },
      "source": [
        "import scipy.stats as stats\n",
        "import numpy as np\n",
        "import pandas as pd\n",
        "import xlrd\n",
        "df = pd.read_excel('Overall_ttest.xlsx', sheet_name='Overall Analysis')\n",
        "x = df.iloc[2:12, 16]\n",
        "\n",
        "y = df.iloc[14:24, 16]\n",
        "\n",
        "z = df.iloc[26:36, 16]\n",
        "\n",
        "stats.f_oneway(x,y,z)"
      ],
      "execution_count": null,
      "outputs": [
        {
          "output_type": "execute_result",
          "data": {
            "text/plain": [
              "F_onewayResult(statistic=46.19912824317396, pvalue=1.922817286832807e-09)"
            ]
          },
          "metadata": {
            "tags": []
          },
          "execution_count": 18
        }
      ]
    },
    {
      "cell_type": "code",
      "metadata": {
        "colab": {
          "base_uri": "https://localhost:8080/"
        },
        "id": "EDi3yEBxt2zZ",
        "outputId": "221e2346-fd2c-4333-a997-8781b5c20d6d"
      },
      "source": [
        "import scipy.stats as stats\n",
        "import numpy as np\n",
        "import pandas as pd\n",
        "import xlrd\n",
        "df = pd.read_excel('Overall_var.xlsx', sheet_name='Overall Analysis')\n",
        "x = df.iloc[2:12, 16]\n",
        "\n",
        "y = df.iloc[14:24, 16]\n",
        "\n",
        "z = df.iloc[26:36, 16]\n",
        "\n",
        "stats.f_oneway(x,y,z)"
      ],
      "execution_count": null,
      "outputs": [
        {
          "output_type": "execute_result",
          "data": {
            "text/plain": [
              "F_onewayResult(statistic=5.093103565390951, pvalue=0.013281752459980974)"
            ]
          },
          "metadata": {
            "tags": []
          },
          "execution_count": 19
        }
      ]
    },
    {
      "cell_type": "code",
      "metadata": {
        "colab": {
          "base_uri": "https://localhost:8080/"
        },
        "id": "6T3Cbhg_vJTG",
        "outputId": "0bd57598-95ce-4b1e-e6d2-97bba3d27966"
      },
      "source": [
        "import scipy.stats as stats\n",
        "import numpy as np\n",
        "import pandas as pd\n",
        "import xlrd\n",
        "df = pd.read_excel('Overall_wil1.xlsx', sheet_name='Overall Analysis')\n",
        "x = df.iloc[2:12, 16]\n",
        "\n",
        "y = df.iloc[14:24, 16]\n",
        "\n",
        "z = df.iloc[26:36, 16]\n",
        "\n",
        "stats.f_oneway(x,y,z)"
      ],
      "execution_count": null,
      "outputs": [
        {
          "output_type": "execute_result",
          "data": {
            "text/plain": [
              "F_onewayResult(statistic=6.372269388030124, pvalue=0.005409599161177788)"
            ]
          },
          "metadata": {
            "tags": []
          },
          "execution_count": 20
        }
      ]
    },
    {
      "cell_type": "code",
      "metadata": {
        "colab": {
          "base_uri": "https://localhost:8080/"
        },
        "id": "X-X1EDccxR8Y",
        "outputId": "742bdf60-d7ea-4f85-f8f5-6c97cc50ab32"
      },
      "source": [
        "import scipy.stats as stats\n",
        "import numpy as np\n",
        "import pandas as pd\n",
        "import xlrd\n",
        "df = pd.read_excel('Overall_wil2.xlsx', sheet_name='Overall Analysis')\n",
        "x = df.iloc[2:12, 16]\n",
        "\n",
        "y = df.iloc[14:24, 16]\n",
        "\n",
        "z = df.iloc[26:36, 16]\n",
        "\n",
        "stats.f_oneway(x,y,z)"
      ],
      "execution_count": null,
      "outputs": [
        {
          "output_type": "execute_result",
          "data": {
            "text/plain": [
              "F_onewayResult(statistic=13.188999682824763, pvalue=0.00010092990668226323)"
            ]
          },
          "metadata": {
            "tags": []
          },
          "execution_count": 21
        }
      ]
    },
    {
      "cell_type": "code",
      "metadata": {
        "colab": {
          "base_uri": "https://localhost:8080/"
        },
        "id": "j2HTzoqJymw3",
        "outputId": "5cf47d7b-eac2-4634-89d8-9648217ea38c"
      },
      "source": [
        "import scipy.stats as stats\n",
        "import numpy as np\n",
        "import pandas as pd\n",
        "import xlrd\n",
        "df = pd.read_excel('Overall_wmean.xlsx', sheet_name='Overall Analysis')\n",
        "x = df.iloc[2:12, 16]\n",
        "\n",
        "y = df.iloc[14:24, 16]\n",
        "\n",
        "z = df.iloc[26:36, 16]\n",
        "\n",
        "stats.f_oneway(x,y,z)"
      ],
      "execution_count": null,
      "outputs": [
        {
          "output_type": "execute_result",
          "data": {
            "text/plain": [
              "F_onewayResult(statistic=12.995477728713707, pvalue=0.00011134922250595993)"
            ]
          },
          "metadata": {
            "tags": []
          },
          "execution_count": 22
        }
      ]
    }
  ]
}